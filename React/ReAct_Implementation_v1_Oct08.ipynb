{
  "nbformat": 4,
  "nbformat_minor": 0,
  "metadata": {
    "colab": {
      "provenance": [],
      "collapsed_sections": [
        "wLnwtGQnywnc",
        "PVXr6kjkyIIS",
        "s6ZKtBk3zx-K",
        "K6QA9Q2D01dc",
        "BAL-Z0Lw9BoG",
        "_Nzb_uSCFU57",
        "yhTZf8I8Gte0",
        "w6-X7mK3KuAd"
      ],
      "authorship_tag": "ABX9TyN53JNyysMDvK+vQ7KJA5uc",
      "include_colab_link": true
    },
    "kernelspec": {
      "name": "python3",
      "display_name": "Python 3"
    },
    "language_info": {
      "name": "python"
    }
  },
  "cells": [
    {
      "cell_type": "markdown",
      "metadata": {
        "id": "view-in-github",
        "colab_type": "text"
      },
      "source": [
        "<a href=\"https://colab.research.google.com/github/BanJeoker/CSCI6511_AI_Projects/blob/master/React/ReAct_Implementation_v1_Oct08.ipynb\" target=\"_parent\"><img src=\"https://colab.research.google.com/assets/colab-badge.svg\" alt=\"Open In Colab\"/></a>"
      ]
    },
    {
      "cell_type": "markdown",
      "source": [
        "**Youtube template**\n",
        "\n",
        "*   https://www.youtube.com/watch?v=hKVhRA9kfeM&t=2901s\n",
        "*   https://github.com/alejandro-ao/agents-no-framework/blob/master/agent-w-loop.ipynb\n",
        "\n",
        "\n",
        "#### Key findings\n",
        "\n",
        "* ReAct is not very difficult to implement. We can totally do it without using langchain. The main thing is how powerful the tools are.\n",
        "\n",
        "* on some simple multi-hop reasoning questions, the ReAct does perform very well right now\n",
        "\n",
        "* The success of ReAct largely depends on the quality of the RAG, because LLM will deem the returned chunks as ground truth, hence\n",
        "    * the number of chunks returned matters\n",
        "    * chunk size matters\n",
        "    * embeddings or query method decides the relevancy of the returned chunks\n",
        "\n",
        "* LLM will first think of tools to use before checking what tools are available, if the desired tool is not present/defined, it will use its internal knowledge to solve it.\n",
        "\n",
        "* sometimes it is hard to trigger the LLM to use defined tools, it might directly use its internal knowledge. Mabye need to work on a more stringent prompt.\n",
        "\n",
        "* the result might be different each time you run it\n",
        "\n",
        "* intuition: the system prompt is very important, it is good practice to write a few examples tailored to our use case"
      ],
      "metadata": {
        "id": "EP39MC0su4d8"
      }
    },
    {
      "cell_type": "markdown",
      "source": [
        "#### dependencies"
      ],
      "metadata": {
        "id": "wLnwtGQnywnc"
      }
    },
    {
      "cell_type": "code",
      "execution_count": null,
      "metadata": {
        "colab": {
          "base_uri": "https://localhost:8080/"
        },
        "id": "E92HbFpasfgv",
        "outputId": "e9ef3436-98a3-4f89-8cf7-37d9433117f6"
      },
      "outputs": [
        {
          "output_type": "stream",
          "name": "stdout",
          "text": [
            "\u001b[2K     \u001b[90m━━━━━━━━━━━━━━━━━━━━━━━━━━━━━━━━━━━━━━━━\u001b[0m \u001b[32m50.4/50.4 kB\u001b[0m \u001b[31m2.5 MB/s\u001b[0m eta \u001b[36m0:00:00\u001b[0m\n",
            "\u001b[2K   \u001b[90m━━━━━━━━━━━━━━━━━━━━━━━━━━━━━━━━━━━━━━━━\u001b[0m \u001b[32m1.0/1.0 MB\u001b[0m \u001b[31m14.7 MB/s\u001b[0m eta \u001b[36m0:00:00\u001b[0m\n",
            "\u001b[2K   \u001b[90m━━━━━━━━━━━━━━━━━━━━━━━━━━━━━━━━━━━━━━━━\u001b[0m \u001b[32m2.4/2.4 MB\u001b[0m \u001b[31m53.8 MB/s\u001b[0m eta \u001b[36m0:00:00\u001b[0m\n",
            "\u001b[2K   \u001b[90m━━━━━━━━━━━━━━━━━━━━━━━━━━━━━━━━━━━━━━━━\u001b[0m \u001b[32m294.5/294.5 kB\u001b[0m \u001b[31m18.4 MB/s\u001b[0m eta \u001b[36m0:00:00\u001b[0m\n",
            "\u001b[2K   \u001b[90m━━━━━━━━━━━━━━━━━━━━━━━━━━━━━━━━━━━━━━━━\u001b[0m \u001b[32m245.3/245.3 kB\u001b[0m \u001b[31m15.0 MB/s\u001b[0m eta \u001b[36m0:00:00\u001b[0m\n",
            "\u001b[2K   \u001b[90m━━━━━━━━━━━━━━━━━━━━━━━━━━━━━━━━━━━━━━━━\u001b[0m \u001b[32m232.6/232.6 kB\u001b[0m \u001b[31m14.4 MB/s\u001b[0m eta \u001b[36m0:00:00\u001b[0m\n",
            "\u001b[2K   \u001b[90m━━━━━━━━━━━━━━━━━━━━━━━━━━━━━━━━━━━━━━━━\u001b[0m \u001b[32m2.3/2.3 MB\u001b[0m \u001b[31m56.1 MB/s\u001b[0m eta \u001b[36m0:00:00\u001b[0m\n",
            "\u001b[2K   \u001b[90m━━━━━━━━━━━━━━━━━━━━━━━━━━━━━━━━━━━━━━━━\u001b[0m \u001b[32m1.2/1.2 MB\u001b[0m \u001b[31m43.1 MB/s\u001b[0m eta \u001b[36m0:00:00\u001b[0m\n",
            "\u001b[2K   \u001b[90m━━━━━━━━━━━━━━━━━━━━━━━━━━━━━━━━━━━━━━━━\u001b[0m \u001b[32m85.5/85.5 MB\u001b[0m \u001b[31m8.9 MB/s\u001b[0m eta \u001b[36m0:00:00\u001b[0m\n",
            "\u001b[2K   \u001b[90m━━━━━━━━━━━━━━━━━━━━━━━━━━━━━━━━━━━━━━━━\u001b[0m \u001b[32m401.8/401.8 kB\u001b[0m \u001b[31m23.4 MB/s\u001b[0m eta \u001b[36m0:00:00\u001b[0m\n",
            "\u001b[2K   \u001b[90m━━━━━━━━━━━━━━━━━━━━━━━━━━━━━━━━━━━━━━━━\u001b[0m \u001b[32m294.6/294.6 kB\u001b[0m \u001b[31m17.3 MB/s\u001b[0m eta \u001b[36m0:00:00\u001b[0m\n",
            "\u001b[2K   \u001b[90m━━━━━━━━━━━━━━━━━━━━━━━━━━━━━━━━━━━━━━━━\u001b[0m \u001b[32m76.4/76.4 kB\u001b[0m \u001b[31m5.3 MB/s\u001b[0m eta \u001b[36m0:00:00\u001b[0m\n",
            "\u001b[2K   \u001b[90m━━━━━━━━━━━━━━━━━━━━━━━━━━━━━━━━━━━━━━━━\u001b[0m \u001b[32m78.0/78.0 kB\u001b[0m \u001b[31m5.0 MB/s\u001b[0m eta \u001b[36m0:00:00\u001b[0m\n",
            "\u001b[2K   \u001b[90m━━━━━━━━━━━━━━━━━━━━━━━━━━━━━━━━━━━━━━━━\u001b[0m \u001b[32m49.3/49.3 kB\u001b[0m \u001b[31m2.8 MB/s\u001b[0m eta \u001b[36m0:00:00\u001b[0m\n",
            "\u001b[2K   \u001b[90m━━━━━━━━━━━━━━━━━━━━━━━━━━━━━━━━━━━━━━━━\u001b[0m \u001b[32m141.9/141.9 kB\u001b[0m \u001b[31m8.7 MB/s\u001b[0m eta \u001b[36m0:00:00\u001b[0m\n",
            "\u001b[2K   \u001b[90m━━━━━━━━━━━━━━━━━━━━━━━━━━━━━━━━━━━━━━━━\u001b[0m \u001b[32m54.5/54.5 kB\u001b[0m \u001b[31m3.0 MB/s\u001b[0m eta \u001b[36m0:00:00\u001b[0m\n",
            "\u001b[2K   \u001b[90m━━━━━━━━━━━━━━━━━━━━━━━━━━━━━━━━━━━━━━━━\u001b[0m \u001b[32m58.3/58.3 kB\u001b[0m \u001b[31m3.6 MB/s\u001b[0m eta \u001b[36m0:00:00\u001b[0m\n",
            "\u001b[?25h"
          ]
        }
      ],
      "source": [
        "!pip -q install langchain_openai openai python-dotenv langchain langchain_community pypdf sentence-transformers PyPDF2 pycryptodome tiktoken faiss-gpu\n"
      ]
    },
    {
      "cell_type": "code",
      "source": [
        "%%writefile .env\n",
        "OPENAI_API_KEY=\"\"\n"
      ],
      "metadata": {
        "colab": {
          "base_uri": "https://localhost:8080/"
        },
        "id": "aooCE9gzu2Gj",
        "outputId": "96d72b12-84b4-4bee-f028-6dc8c1ed17e0"
      },
      "execution_count": null,
      "outputs": [
        {
          "output_type": "stream",
          "name": "stdout",
          "text": [
            "Overwriting .env\n"
          ]
        }
      ]
    },
    {
      "cell_type": "code",
      "source": [
        "from dotenv import load_dotenv\n",
        "load_dotenv()"
      ],
      "metadata": {
        "colab": {
          "base_uri": "https://localhost:8080/"
        },
        "id": "RnPXLTD6w5ZW",
        "outputId": "14a488c2-193d-4b53-ea68-637798e3965f"
      },
      "execution_count": 1,
      "outputs": [
        {
          "output_type": "execute_result",
          "data": {
            "text/plain": [
              "True"
            ]
          },
          "metadata": {},
          "execution_count": 1
        }
      ]
    },
    {
      "cell_type": "markdown",
      "source": [
        "#### test openai connection"
      ],
      "metadata": {
        "id": "PVXr6kjkyIIS"
      }
    },
    {
      "cell_type": "code",
      "source": [
        "import os\n",
        "from openai import OpenAI\n",
        "client = OpenAI(api_key=os.environ.get(\"OPENAI_API_KEY\"))\n",
        "\n",
        "\n",
        "messages = [\n",
        "        {\"role\": \"system\", \"content\": 'You are a sport fanatic'},\n",
        "        {\"role\": \"user\", \"content\": 'how many superbowls has Rams won'},\n",
        "    ]\n",
        "response = client.chat.completions.create(\n",
        "        model=\"gpt-4o\",\n",
        "        messages=messages,\n",
        "        temperature=0\n",
        "    )\n",
        "response_message = response.choices[0].message.content\n",
        "print(response_message )"
      ],
      "metadata": {
        "colab": {
          "base_uri": "https://localhost:8080/"
        },
        "id": "XAax2DifyFiN",
        "outputId": "b4b17d2b-703c-47a0-928a-ac1cba783f96"
      },
      "execution_count": 3,
      "outputs": [
        {
          "output_type": "stream",
          "name": "stdout",
          "text": [
            "As of October 2023, the Los Angeles Rams have won two Super Bowls. Their victories came in Super Bowl XXXIV, when they were known as the St. Louis Rams, and in Super Bowl LVI, after they had returned to Los Angeles.\n"
          ]
        }
      ]
    },
    {
      "cell_type": "markdown",
      "source": [
        "#### build RAG search tool"
      ],
      "metadata": {
        "id": "s6ZKtBk3zx-K"
      }
    },
    {
      "cell_type": "code",
      "source": [
        "from PyPDF2 import PdfReader\n",
        "from langchain.text_splitter import CharacterTextSplitter\n",
        "from langchain_openai import OpenAIEmbeddings\n",
        "from langchain import FAISS\n"
      ],
      "metadata": {
        "id": "k4FQebTHzrUK"
      },
      "execution_count": 2,
      "outputs": []
    },
    {
      "cell_type": "code",
      "source": [
        "pdf_reader = PdfReader('/content/naf23.pdf')\n",
        "text = \"\"\n",
        "for page in pdf_reader.pages:\n",
        "    text += page.extract_text()"
      ],
      "metadata": {
        "id": "3_LVPSo_Ryy3"
      },
      "execution_count": 4,
      "outputs": []
    },
    {
      "cell_type": "code",
      "source": [
        "def process_text(text, chunk_size=1000, chunk_overlap=100):\n",
        "    text_splitter = CharacterTextSplitter(\n",
        "        separator=\"\\n\",\n",
        "        chunk_size=chunk_size,\n",
        "        chunk_overlap=chunk_overlap,\n",
        "        length_function=len\n",
        "    )\n",
        "    chunks = text_splitter.split_text(text)\n",
        "    embeddings = OpenAIEmbeddings()\n",
        "    knowledgeBase = FAISS.from_texts(chunks, embeddings)\n",
        "    return knowledgeBase\n",
        "\n",
        "knowledgeBase = process_text(text)"
      ],
      "metadata": {
        "id": "UcbX33cPz-PJ"
      },
      "execution_count": 5,
      "outputs": []
    },
    {
      "cell_type": "code",
      "source": [
        "def search(query):\n",
        "    return knowledgeBase.similarity_search(query, k=2)"
      ],
      "metadata": {
        "id": "bH9heKme0r9M"
      },
      "execution_count": 6,
      "outputs": []
    },
    {
      "cell_type": "code",
      "source": [
        "search('total revenue')"
      ],
      "metadata": {
        "colab": {
          "base_uri": "https://localhost:8080/"
        },
        "id": "kl56zpBU6BKH",
        "outputId": "0b9b7b80-d7b4-4105-a29d-e1e82c49380c"
      },
      "execution_count": 7,
      "outputs": [
        {
          "output_type": "execute_result",
          "data": {
            "text/plain": [
              "[Document(metadata={}, page_content='Total Revenue 979,651           -                        979,651           \\nNet Assets Released from Restrictions 975,954           (975,954)          -                        \\nTotal Support and Revenue 3,546,026       638,761           4,184,787       \\nExpenses\\nProgram services\\nResearch 1,574,354       -                        1,574,354       \\nEducation and service 1,146,980       -                        1,146,980       \\nDrug Development Collaborative 1,188,427       -                        1,188,427       \\nTotal Program Services 3,909,761       -                        3,909,761       \\nSupporting services\\nManagement and general 538,079           -                        538,079           \\nFundraising 548,618           -                        548,618           \\nTotal Supporting Services 1,086,697       -                        1,086,697       \\nTotal Expenses 4,996,458       -                        4,996,458'),\n",
              " Document(metadata={}, page_content='Earned income 800,000           -                        800,000           \\nInvestment loss (127,884)          -                        (127,884)          \\nTotal Revenue 981,690           -                        981,690           \\nNet Assets Released from Restrictions 1,278,770       (1,278,770)      -                        \\n \\nTotal Support and Revenue 3,908,554       489,031           4,397,585       \\nExpenses\\nProgram services\\nResearch 1,837,520       -                        1,837,520       \\nEducation and service 579,104           -                        579,104           \\nDrug Development Collaborative 943,904           -                        943,904           \\nTotal Program Services 3,360,528       -                        3,360,528       \\nSupporting services\\nManagement and general 377,042           -                        377,042           \\nFundraising 393,619           -                        393,619')]"
            ]
          },
          "metadata": {},
          "execution_count": 7
        }
      ]
    },
    {
      "cell_type": "markdown",
      "source": [
        "these two chunks are correct, one for 2022, one for 2023, however, the exact year is cut off from the chunk, as the chunk size is only 1k characters"
      ],
      "metadata": {
        "id": "iTu_t8OtR9HF"
      }
    },
    {
      "cell_type": "markdown",
      "source": [
        "#### building ReAct agent and test it step by step"
      ],
      "metadata": {
        "id": "K6QA9Q2D01dc"
      }
    },
    {
      "cell_type": "code",
      "source": [
        "client"
      ],
      "metadata": {
        "colab": {
          "base_uri": "https://localhost:8080/"
        },
        "id": "IxfP98QT2mGD",
        "outputId": "b2ee70ee-cf17-4f4b-a23d-c6923445ba88"
      },
      "execution_count": 13,
      "outputs": [
        {
          "output_type": "execute_result",
          "data": {
            "text/plain": [
              "<openai.OpenAI at 0x78e32a415450>"
            ]
          },
          "metadata": {},
          "execution_count": 13
        }
      ]
    },
    {
      "cell_type": "code",
      "source": [
        "class Agent:\n",
        "    def __init__(self, client=client, system_prompt: str = \"\") -> None:\n",
        "        self.client = client # the llm\n",
        "        self.system_prompt = system_prompt\n",
        "        self.messages: list = []\n",
        "        if self.system_prompt:\n",
        "            self.messages.append({\"role\": \"system\", \"content\": system_prompt})\n",
        "\n",
        "    def __call__(self, message=\"\"):\n",
        "        if message:\n",
        "            self.messages.append({\"role\": \"user\", \"content\": message})\n",
        "        result = self.execute()\n",
        "        self.messages.append({\"role\": \"assistant\", \"content\": result})\n",
        "        return result\n",
        "\n",
        "    def execute(self):\n",
        "        completion = client.chat.completions.create(\n",
        "            model=\"gpt-4o\",\n",
        "            messages=self.messages,\n",
        "            temperature=0\n",
        "        )\n",
        "        return completion.choices[0].message.content"
      ],
      "metadata": {
        "id": "RqNgFHmo0_g0"
      },
      "execution_count": 14,
      "outputs": []
    },
    {
      "cell_type": "code",
      "source": [
        "system_prompt = \"\"\"\n",
        "you are a financial expert and an underwriter working for commerical banking of a bank.\n",
        "You run in a loop of Thought, Action, PAUSE, Observation.\n",
        "At the end of the loop you output an Answer\n",
        "Use Thought to describe your thoughts about the question you have been asked.\n",
        "Use Action to run one of the actions available to you - then return PAUSE.\n",
        "Observation will be the result of running those actions.\n",
        "\n",
        "Your available actions are:\n",
        "\n",
        "search:\n",
        "e.g. search: total income\n",
        "Runs a serach function in the knowledge base and return relevant information as chunks of text.\n",
        "\n",
        "\n",
        "Example session:\n",
        "\n",
        "Question: analyze financial performance of Apple Inc and potential drivers?\n",
        "Thought: to analyse finanial performance, I need to know Apple's total revenue, so I need to search its total revenue\n",
        "Action: search: Apple Inc total revenue\n",
        "PAUSE\n",
        "\n",
        "You will be called again with this:\n",
        "\n",
        "Observation: Document(metadata={}, page_content='Total Revenue 979,651...'\n",
        "\n",
        "Thought: to know the potential drivers, I need to know the buisness composition of Apple, so I need to search its buisness composition\n",
        "Action: search: Apple Inc buisness composition\n",
        "PAUSE\n",
        "\n",
        "You will be called again with this:\n",
        "\n",
        "Observation: Document(metadata={}, page_content='Apple's business composition includes iPhone: Major revenue driver. Mac: Laptops and desktops...'\n",
        "\n",
        "If you have the answer, output it as the Answer.\n",
        "\n",
        "Answer: Apple's financial performance is strong with a total revenue of 979,651, which is drived by iPhone sales.\n",
        "\n",
        "Now it's your turn:\n",
        "\"\"\".strip()"
      ],
      "metadata": {
        "id": "7LC7XDO93kWk"
      },
      "execution_count": 9,
      "outputs": []
    },
    {
      "cell_type": "code",
      "source": [
        "agent = Agent(client=client, system_prompt=system_prompt)\n",
        "result = agent(\"what is total revenue in 2023\")\n",
        "print(result)"
      ],
      "metadata": {
        "colab": {
          "base_uri": "https://localhost:8080/"
        },
        "id": "qOSr_0YT7ly3",
        "outputId": "9a0dca14-33dd-4e11-f81c-ba7748515a48"
      },
      "execution_count": null,
      "outputs": [
        {
          "output_type": "stream",
          "name": "stdout",
          "text": [
            "Thought: To provide the total revenue for 2023, I need to search for the most recent financial data or reports that include this information.\n",
            "Action: search: total revenue 2023\n",
            "PAUSE\n"
          ]
        }
      ]
    },
    {
      "cell_type": "code",
      "source": [
        "result = search('total revenue 2023')\n",
        "print(result)"
      ],
      "metadata": {
        "colab": {
          "base_uri": "https://localhost:8080/"
        },
        "id": "slWerIAb8L6k",
        "outputId": "7feb92d2-60d5-4cf4-fa57-594490e0f4dc"
      },
      "execution_count": null,
      "outputs": [
        {
          "output_type": "stream",
          "name": "stdout",
          "text": [
            "[Document(metadata={}, page_content='Total Revenue 979,651           -                        979,651           \\nNet Assets Released from Restrictions 975,954           (975,954)          -                        \\nTotal Support and Revenue 3,546,026       638,761           4,184,787       \\nExpenses\\nProgram services\\nResearch 1,574,354       -                        1,574,354       \\nEducation and service 1,146,980       -                        1,146,980       \\nDrug Development Collaborative 1,188,427       -                        1,188,427       \\nTotal Program Services 3,909,761       -                        3,909,761       \\nSupporting services\\nManagement and general 538,079           -                        538,079           \\nFundraising 548,618           -                        548,618           \\nTotal Supporting Services 1,086,697       -                        1,086,697       \\nTotal Expenses 4,996,458       -                        4,996,458'), Document(metadata={}, page_content='Earned income 800,000           -                        800,000           \\nInvestment loss (127,884)          -                        (127,884)          \\nTotal Revenue 981,690           -                        981,690           \\nNet Assets Released from Restrictions 1,278,770       (1,278,770)      -                        \\n \\nTotal Support and Revenue 3,908,554       489,031           4,397,585       \\nExpenses\\nProgram services\\nResearch 1,837,520       -                        1,837,520       \\nEducation and service 579,104           -                        579,104           \\nDrug Development Collaborative 943,904           -                        943,904           \\nTotal Program Services 3,360,528       -                        3,360,528       \\nSupporting services\\nManagement and general 377,042           -                        377,042           \\nFundraising 393,619           -                        393,619')]\n"
          ]
        }
      ]
    },
    {
      "cell_type": "code",
      "source": [
        "next_prompt = \"Observation: {}\".format(result)\n",
        "next_prompt"
      ],
      "metadata": {
        "colab": {
          "base_uri": "https://localhost:8080/",
          "height": 191
        },
        "id": "hqJ3VvDA8kbm",
        "outputId": "c5cdfd2a-6f77-4aa1-f006-e75fc0c1c6f9"
      },
      "execution_count": null,
      "outputs": [
        {
          "output_type": "execute_result",
          "data": {
            "text/plain": [
              "\"Observation: [Document(metadata={}, page_content='Total Revenue 979,651           -                        979,651           \\\\nNet Assets Released from Restrictions 975,954           (975,954)          -                        \\\\nTotal Support and Revenue 3,546,026       638,761           4,184,787       \\\\nExpenses\\\\nProgram services\\\\nResearch 1,574,354       -                        1,574,354       \\\\nEducation and service 1,146,980       -                        1,146,980       \\\\nDrug Development Collaborative 1,188,427       -                        1,188,427       \\\\nTotal Program Services 3,909,761       -                        3,909,761       \\\\nSupporting services\\\\nManagement and general 538,079           -                        538,079           \\\\nFundraising 548,618           -                        548,618           \\\\nTotal Supporting Services 1,086,697       -                        1,086,697       \\\\nTotal Expenses 4,996,458       -                        4,996,458'), Document(metadata={}, page_content='Earned income 800,000           -                        800,000           \\\\nInvestment loss (127,884)          -                        (127,884)          \\\\nTotal Revenue 981,690           -                        981,690           \\\\nNet Assets Released from Restrictions 1,278,770       (1,278,770)      -                        \\\\n \\\\nTotal Support and Revenue 3,908,554       489,031           4,397,585       \\\\nExpenses\\\\nProgram services\\\\nResearch 1,837,520       -                        1,837,520       \\\\nEducation and service 579,104           -                        579,104           \\\\nDrug Development Collaborative 943,904           -                        943,904           \\\\nTotal Program Services 3,360,528       -                        3,360,528       \\\\nSupporting services\\\\nManagement and general 377,042           -                        377,042           \\\\nFundraising 393,619           -                        393,619')]\""
            ],
            "application/vnd.google.colaboratory.intrinsic+json": {
              "type": "string"
            }
          },
          "metadata": {},
          "execution_count": 25
        }
      ]
    },
    {
      "cell_type": "code",
      "source": [
        "result = agent(next_prompt)\n",
        "print(result)\n"
      ],
      "metadata": {
        "colab": {
          "base_uri": "https://localhost:8080/"
        },
        "id": "-IBSZdIN8mF1",
        "outputId": "05bdb1b9-3ae8-46e2-d450-23c7fd25e359"
      },
      "execution_count": null,
      "outputs": [
        {
          "output_type": "stream",
          "name": "stdout",
          "text": [
            "Thought: The search results provide two different figures for total revenue in 2023, which are 979,651 and 981,690. These figures might be from different sources or contexts. To provide a precise answer, I need to clarify the context or source of these figures. However, based on the available data, the total revenue for 2023 is approximately in the range of 979,651 to 981,690.\n",
            "\n",
            "Answer: The total revenue for 2023 is approximately between 979,651 and 981,690, based on the available data.\n"
          ]
        }
      ]
    },
    {
      "cell_type": "markdown",
      "source": [
        "there are two chunks returned, the LLM does not know which is correct"
      ],
      "metadata": {
        "id": "RT141ttZSX80"
      }
    },
    {
      "cell_type": "code",
      "source": [
        "for msg in agent.messages:\n",
        "    print(msg['content'])"
      ],
      "metadata": {
        "colab": {
          "base_uri": "https://localhost:8080/"
        },
        "id": "fHEZsWvK81wC",
        "outputId": "116320a9-4688-4764-ced1-22e32a27b102"
      },
      "execution_count": null,
      "outputs": [
        {
          "output_type": "stream",
          "name": "stdout",
          "text": [
            "you are a financial expert and an underwriter working for commerical banking of a bank.\n",
            "You run in a loop of Thought, Action, PAUSE, Observation.\n",
            "At the end of the loop you output an Answer\n",
            "Use Thought to describe your thoughts about the question you have been asked.\n",
            "Use Action to run one of the actions available to you - then return PAUSE.\n",
            "Observation will be the result of running those actions.\n",
            "\n",
            "Your available actions are:\n",
            "\n",
            "search:\n",
            "e.g. search: total income\n",
            "Runs a serach function in the knowledge base and return relevant information as chunks of text.\n",
            "\n",
            "\n",
            "Example session:\n",
            "\n",
            "Question: analyze financial performance of Apple Inc and potential drivers?\n",
            "Thought: to analyse finanial performance, I need to know Apple's total revenue, so I need to search its total revenue\n",
            "Action: search: Apple Inc total revenue\n",
            "PAUSE \n",
            "\n",
            "You will be called again with this:\n",
            "\n",
            "Observation: Document(metadata={}, page_content='Total Revenue 979,651...' \n",
            "\n",
            "Thought: to know the potential drivers, I need to know the buisness composition of Apple, so I need to search its buisness composition\n",
            "Action: search: Apple Inc buisness composition\n",
            "PAUSE\n",
            "\n",
            "You will be called again with this: \n",
            "\n",
            "Observation: Document(metadata={}, page_content='Apple's business composition includes iPhone: Major revenue driver. Mac: Laptops and desktops...'\n",
            "\n",
            "If you have the answer, output it as the Answer.\n",
            "\n",
            "Answer: Apple's financial performance is strong with a total revenue of 979,651, which is drived by iPhone sales.\n",
            "\n",
            "Now it's your turn:\n",
            "what is total revenue in 2023\n",
            "Thought: To provide the total revenue for 2023, I need to search for the most recent financial data or reports that include this information.\n",
            "Action: search: total revenue 2023\n",
            "PAUSE\n",
            "Observation: [Document(metadata={}, page_content='Total Revenue 979,651           -                        979,651           \\nNet Assets Released from Restrictions 975,954           (975,954)          -                        \\nTotal Support and Revenue 3,546,026       638,761           4,184,787       \\nExpenses\\nProgram services\\nResearch 1,574,354       -                        1,574,354       \\nEducation and service 1,146,980       -                        1,146,980       \\nDrug Development Collaborative 1,188,427       -                        1,188,427       \\nTotal Program Services 3,909,761       -                        3,909,761       \\nSupporting services\\nManagement and general 538,079           -                        538,079           \\nFundraising 548,618           -                        548,618           \\nTotal Supporting Services 1,086,697       -                        1,086,697       \\nTotal Expenses 4,996,458       -                        4,996,458'), Document(metadata={}, page_content='Earned income 800,000           -                        800,000           \\nInvestment loss (127,884)          -                        (127,884)          \\nTotal Revenue 981,690           -                        981,690           \\nNet Assets Released from Restrictions 1,278,770       (1,278,770)      -                        \\n \\nTotal Support and Revenue 3,908,554       489,031           4,397,585       \\nExpenses\\nProgram services\\nResearch 1,837,520       -                        1,837,520       \\nEducation and service 579,104           -                        579,104           \\nDrug Development Collaborative 943,904           -                        943,904           \\nTotal Program Services 3,360,528       -                        3,360,528       \\nSupporting services\\nManagement and general 377,042           -                        377,042           \\nFundraising 393,619           -                        393,619')]\n",
            "Thought: The search results provide two different figures for total revenue in 2023, which are 979,651 and 981,690. These figures might be from different sources or contexts. To provide a precise answer, I need to clarify the context or source of these figures. However, based on the available data, the total revenue for 2023 is approximately in the range of 979,651 to 981,690.\n",
            "\n",
            "Answer: The total revenue for 2023 is approximately between 979,651 and 981,690, based on the available data.\n"
          ]
        }
      ]
    },
    {
      "cell_type": "markdown",
      "source": [
        "#### automate the ReAct by writing a while loop"
      ],
      "metadata": {
        "id": "BAL-Z0Lw9BoG"
      }
    },
    {
      "cell_type": "code",
      "source": [
        "tools=[\"search\"]"
      ],
      "metadata": {
        "id": "JUfYn5dINoFz"
      },
      "execution_count": 10,
      "outputs": []
    },
    {
      "cell_type": "code",
      "source": [
        "import re\n",
        "def react_run(max_iterations=10, query: str = \"\", tools=tools, system_prompt=system_prompt):\n",
        "\n",
        "    agent = Agent(client=client, system_prompt=system_prompt)\n",
        "    tools = tools\n",
        "\n",
        "    next_prompt = query\n",
        "\n",
        "    i = 0\n",
        "\n",
        "    while i < max_iterations:\n",
        "        i += 1\n",
        "        result = agent(next_prompt)\n",
        "        print(result)\n",
        "\n",
        "        if \"PAUSE\" in result and \"Action\" in result:\n",
        "            action = re.findall(r\"Action: ([a-z_]+): (.+)\", result, re.IGNORECASE)\n",
        "            chosen_tool = action[0][0]\n",
        "            arg = action[0][1]\n",
        "\n",
        "            if chosen_tool in tools:\n",
        "                result_tool = eval(f\"{chosen_tool}('{arg}')\")\n",
        "                next_prompt = f\"Observation: {result_tool}\"\n",
        "\n",
        "            else:\n",
        "                next_prompt = \"Observation: Tool not found\"\n",
        "\n",
        "            print(next_prompt)\n",
        "            continue\n",
        "\n",
        "        if \"Answer\" in result:\n",
        "            break"
      ],
      "metadata": {
        "id": "-5GcF_RP8oku"
      },
      "execution_count": 32,
      "outputs": []
    },
    {
      "cell_type": "code",
      "source": [
        "react_run(query=\"what is National Ataxia Foudnations's revenue 2023?\", tools=tools, system_prompt=system_prompt)"
      ],
      "metadata": {
        "colab": {
          "base_uri": "https://localhost:8080/"
        },
        "id": "beeMW4in9KNB",
        "outputId": "ed7fcadd-0f8e-42c6-8fec-6f6fcf615bad"
      },
      "execution_count": null,
      "outputs": [
        {
          "output_type": "stream",
          "name": "stdout",
          "text": [
            "Thought: To answer the question about the National Ataxia Foundation's revenue for 2023, I need to search for their financial information for that year.\n",
            "Action: search: National Ataxia Foundation revenue 2023\n",
            "PAUSE\n",
            "Observation: [Document(metadata={}, page_content=\"Research grants 1,011,330       -                        752,261           1,763,591       1,558                -                        1,765,149       \\nSupport grants -                        3,071                -                        3,071                -                        -                        3,071                \\n \\nTotal Expenses 1,837,520$     579,104 $         943,904 $         3,360,528$      377,042 $         393,619 $         4,131,189$      National Ataxia Foundation\\nStatements of Functional Expenses (Continued)\\nFor the Years Ended December 31, 2023 and 2022\\n2022\\nProgram Services Supporting Services\\nSee Independent Auditor's Report and Notes to the Financial Statements.\\n102023 2022\\nCash Flows from Operating Activities\\nChange in net assets (811,671) $      266,396 $   \\nAdjustment to reconcile change in net assets\\nto net cash provided by operating activities:\\nRealized and unrealized loss (gain) on investments (75,701)  194,093\"), Document(metadata={}, page_content=\"Fundraising 393,619           -                        393,619           \\nTotal Supporting Services 770,661           -                        770,661           \\nTotal Expenses 4,131,189       -                        4,131,189       \\nChange in Net Assets (222,635)          489,031           266,396           \\nBeginning Net Assets 2,607,446       1,552,775       4,160,221       \\nEnding Net Assets 2,384,811$     2,041,806$      4,426,617$      2022National Ataxia Foundation\\nStatements of Activities (Continued)\\nFor the Years Ended December 31, 2023 and 2022\\nSee Independent Auditor's Report and Notes to the Financial Statements.\\n8Drug\\nEducation Development Total Program Management\\nResearch and Service Collaborative Services and General Fundraising Total\\nSalaries and Related Expenses\\nSalaries and wages 494,104 $        362,830 $          162,033 $         1,018,967$      138,082 $         293,427 $         1,450,476$\")]\n",
            "Thought: The documents provided do not explicitly state the total revenue for the National Ataxia Foundation in 2023. They provide information on expenses, changes in net assets, and other financial activities. I need to search specifically for the revenue information for 2023.\n",
            "\n",
            "Action: search: National Ataxia Foundation total revenue 2023\n",
            "PAUSE\n",
            "Observation: [Document(metadata={}, page_content=\"Fundraising 393,619           -                        393,619           \\nTotal Supporting Services 770,661           -                        770,661           \\nTotal Expenses 4,131,189       -                        4,131,189       \\nChange in Net Assets (222,635)          489,031           266,396           \\nBeginning Net Assets 2,607,446       1,552,775       4,160,221       \\nEnding Net Assets 2,384,811$     2,041,806$      4,426,617$      2022National Ataxia Foundation\\nStatements of Activities (Continued)\\nFor the Years Ended December 31, 2023 and 2022\\nSee Independent Auditor's Report and Notes to the Financial Statements.\\n8Drug\\nEducation Development Total Program Management\\nResearch and Service Collaborative Services and General Fundraising Total\\nSalaries and Related Expenses\\nSalaries and wages 494,104 $        362,830 $          162,033 $         1,018,967$      138,082 $         293,427 $         1,450,476$\"), Document(metadata={}, page_content=\"Research grants 1,011,330       -                        752,261           1,763,591       1,558                -                        1,765,149       \\nSupport grants -                        3,071                -                        3,071                -                        -                        3,071                \\n \\nTotal Expenses 1,837,520$     579,104 $         943,904 $         3,360,528$      377,042 $         393,619 $         4,131,189$      National Ataxia Foundation\\nStatements of Functional Expenses (Continued)\\nFor the Years Ended December 31, 2023 and 2022\\n2022\\nProgram Services Supporting Services\\nSee Independent Auditor's Report and Notes to the Financial Statements.\\n102023 2022\\nCash Flows from Operating Activities\\nChange in net assets (811,671) $      266,396 $   \\nAdjustment to reconcile change in net assets\\nto net cash provided by operating activities:\\nRealized and unrealized loss (gain) on investments (75,701)  194,093\")]\n",
            "Thought: The documents provided still do not explicitly mention the total revenue for the National Ataxia Foundation in 2023. They include details on expenses, changes in net assets, and other financial activities, but not the total revenue. I need to search again for the specific revenue information for 2023.\n",
            "\n",
            "Action: search: National Ataxia Foundation 2023 revenue report\n",
            "PAUSE\n",
            "Observation: [Document(metadata={}, page_content=\"Annual Financial  \\nReport  \\nNational Ataxia Foundation   \\nSt. Louis Park, Minnesota  \\n \\n \\nFor the years ended December 31, 2023  and 2022  \\n National Ataxia Foundation  \\nTable of Contents  \\nDecember 31, 2023  and 2022  \\nPage No.  \\nIndependent Auditor's Report  3 \\nFinancial Statements  \\nStatement s of Financial Position  6 \\nStatement s of Activities  7 \\nStatements of Functional Expenses  9 \\nStateme nts of Cash Flows  11 \\nNotes to the Financial Statements  12 \\n2 \\n  \\n \\n \\n \\n \\n \\nINDEPENDENT AUDITOR'S REPORT  \\n \\n \\nBoard of Directors  \\nNational Ataxia Foundation  \\nSt. Louis Park , Minnesota  \\n \\nOpinion  \\n \\nWe have audited the accompanying financial statements of National Ataxia Foundation  (the Foundation ), which comprise \\nthe statements of financial position as of December 31, 2023  and 2022 , and the related statements of activities, \\nfunctional expenses and cash flows for the years then ended, and the related notes to the financial statements.\"), Document(metadata={}, page_content=\"Total Expenses 4,996,458       -                        4,996,458       \\nChange in Net Assets (1,450,432)      638,761           (811,671)          \\nBeginning Net Assets 2,384,811       2,041,806       4,426,617       \\nEnding Net Assets 934,379 $        2,680,567$      3,614,946$      2023National Ataxia Foundation\\nStatements of Activities\\nFor the Years Ended December 31, 2023 and 2022\\nSee Independent Auditor's Report and Notes to the Financial Statements.\\n7Without Donor With Donor\\nRestriction Restriction Total\\nSupport and Revenue\\nSupport\\nContributions, memorials and honorariums 1,638,224$     1,767,801$      3,406,025$      \\nIn-kind contributions 9,870               -                        9,870               \\nTotal Support 1,648,094       1,767,801       3,415,895       \\nRevenue\\nConference income 309,574           -                        309,574           \\nEarned income 800,000           -                        800,000\")]\n",
            "Observation: The document provides the total support and revenue for the National Ataxia Foundation for the year 2023. The total support, which includes contributions, memorials, honorariums, and in-kind contributions, amounts to $3,415,895. Additionally, the revenue from conference income and earned income totals $1,109,574. \n",
            "\n",
            "Answer: The National Ataxia Foundation's total revenue for 2023, including support and other income, is $4,525,469.\n"
          ]
        }
      ]
    },
    {
      "cell_type": "markdown",
      "source": [
        "**this is the problem of RAG, it returns chunks that have similar embeddings with \"National Ataxia Foundation\", not with \"revenue\"**"
      ],
      "metadata": {
        "id": "1B1_db7UBs4V"
      }
    },
    {
      "cell_type": "code",
      "source": [
        "react_run(query=\"what is the difference between total revenue in 2022 and 2023, is it an increase or decrease?\", tools=tools, system_prompt=system_prompt)\n"
      ],
      "metadata": {
        "colab": {
          "base_uri": "https://localhost:8080/"
        },
        "id": "MQtxzkAe-yi_",
        "outputId": "d2cfe122-1c62-47c0-e6ba-cbd1a6dc7e38"
      },
      "execution_count": null,
      "outputs": [
        {
          "output_type": "stream",
          "name": "stdout",
          "text": [
            "Thought: To determine the difference in total revenue between 2022 and 2023, I need to find the total revenue for both years and compare them.\n",
            "Action: search: total revenue 2022\n",
            "PAUSE\n",
            "Observation: [Document(metadata={}, page_content='Total Revenue 979,651           -                        979,651           \\nNet Assets Released from Restrictions 975,954           (975,954)          -                        \\nTotal Support and Revenue 3,546,026       638,761           4,184,787       \\nExpenses\\nProgram services\\nResearch 1,574,354       -                        1,574,354       \\nEducation and service 1,146,980       -                        1,146,980       \\nDrug Development Collaborative 1,188,427       -                        1,188,427       \\nTotal Program Services 3,909,761       -                        3,909,761       \\nSupporting services\\nManagement and general 538,079           -                        538,079           \\nFundraising 548,618           -                        548,618           \\nTotal Supporting Services 1,086,697       -                        1,086,697       \\nTotal Expenses 4,996,458       -                        4,996,458'), Document(metadata={}, page_content='Earned income 800,000           -                        800,000           \\nInvestment loss (127,884)          -                        (127,884)          \\nTotal Revenue 981,690           -                        981,690           \\nNet Assets Released from Restrictions 1,278,770       (1,278,770)      -                        \\n \\nTotal Support and Revenue 3,908,554       489,031           4,397,585       \\nExpenses\\nProgram services\\nResearch 1,837,520       -                        1,837,520       \\nEducation and service 579,104           -                        579,104           \\nDrug Development Collaborative 943,904           -                        943,904           \\nTotal Program Services 3,360,528       -                        3,360,528       \\nSupporting services\\nManagement and general 377,042           -                        377,042           \\nFundraising 393,619           -                        393,619')]\n",
            "Thought: I have found the total revenue for 2022, which is 979,651, and for 2023, which is 981,690. Now, I need to calculate the difference between these two figures to determine if there is an increase or decrease.\n",
            "Action: calculate: 981,690 - 979,651\n",
            "PAUSE\n",
            "Observation: Tool not found\n",
            "Thought: Since I cannot use a calculation tool directly, I will manually calculate the difference between the total revenues for 2022 and 2023. \n",
            "\n",
            "The total revenue for 2023 is 981,690 and for 2022 is 979,651. The difference is 981,690 - 979,651 = 2,039. \n",
            "\n",
            "This indicates an increase in total revenue from 2022 to 2023. \n",
            "\n",
            "Answer: The total revenue increased by 2,039 from 2022 to 2023.\n"
          ]
        }
      ]
    },
    {
      "cell_type": "markdown",
      "source": [
        "ground truth:\n",
        "* total revenue 2022: 979,651\n",
        "* total revenue 2023: 981,690\n",
        "\n",
        "the RAG returns two document chunks, both have total revenue, one is 2022, one is 2023. However, the exact year is not in the chunks, so the LLM assumes the order of the documents is the order of the year. Hence, the second query is correct.\n",
        "*  RAG is important in the quality of the result, should increase the chunk size\n",
        "* the LLM want to use 'calculate' tool, but we do not define a 'calculate' tool, so it uses its own knowledge to calculate it."
      ],
      "metadata": {
        "id": "fmmRinEeCAm1"
      }
    },
    {
      "cell_type": "markdown",
      "source": [
        "#### same query, but this time we define 'calculate'"
      ],
      "metadata": {
        "id": "_Nzb_uSCFU57"
      }
    },
    {
      "cell_type": "code",
      "source": [
        "def calculate(operation: str) -> float:\n",
        "    return eval(operation)"
      ],
      "metadata": {
        "id": "-bYkFhFuFbZV"
      },
      "execution_count": null,
      "outputs": []
    },
    {
      "cell_type": "code",
      "source": [
        "system_prompt = \"\"\"\n",
        "you are a financial expert and an underwriter working for commerical banking of a bank.\n",
        "You run in a loop of Thought, Action, PAUSE, Observation.\n",
        "At the end of the loop you output an Answer\n",
        "Use Thought to describe your thoughts about the question you have been asked.\n",
        "Use Action to run one of the actions available to you - then return PAUSE.\n",
        "Observation will be the result of running those actions.\n",
        "\n",
        "Your available actions are:\n",
        "\n",
        "search:\n",
        "e.g. search: total income\n",
        "Runs a serach function in the knowledge base and return relevant information as chunks of text.\n",
        "\n",
        "calculate:\n",
        "e.g. calculate: 4 * 7 / 3\n",
        "Runs a calculation and returns the number - uses Python so be sure to use floating point syntax if necessary\n",
        "\n",
        "Example session:\n",
        "\n",
        "Question: analyze financial performance of Apple Inc and potential drivers?\n",
        "Thought: to analyse finanial performance, I need to know Apple's total revenue, so I need to search its total revenue\n",
        "Action: search: Apple Inc total revenue\n",
        "PAUSE\n",
        "\n",
        "You will be called again with this:\n",
        "\n",
        "Observation: Document(metadata={}, page_content='Total Revenue 979,651...'\n",
        "\n",
        "Thought: to know the potential drivers, I need to know the buisness composition of Apple, so I need to search its buisness composition\n",
        "Action: search: Apple Inc buisness composition\n",
        "PAUSE\n",
        "\n",
        "You will be called again with this:\n",
        "\n",
        "Observation: Document(metadata={}, page_content='Apple's business composition includes iPhone: Major revenue driver. Mac: Laptops and desktops...'\n",
        "\n",
        "If you have the answer, output it as the Answer.\n",
        "\n",
        "Answer: Apple's financial performance is strong with a total revenue of 979,651, which is drived by iPhone sales.\n",
        "\n",
        "Now it's your turn:\n",
        "\"\"\".strip()"
      ],
      "metadata": {
        "id": "z7rtOjlb_J0n"
      },
      "execution_count": 18,
      "outputs": []
    },
    {
      "cell_type": "code",
      "source": [
        "tools=[\"search\",\"calculate\"]"
      ],
      "metadata": {
        "id": "37IPcEUUOBZs"
      },
      "execution_count": 52,
      "outputs": []
    },
    {
      "cell_type": "code",
      "source": [
        "react_run(query=\"what is the difference between total revenue in 2022 and 2023, is it an increase or decrease?\", tools=tools, system_prompt=system_prompt)"
      ],
      "metadata": {
        "colab": {
          "base_uri": "https://localhost:8080/"
        },
        "id": "MTTghw2YFjhb",
        "outputId": "ca44f565-64a3-4540-a35f-0fd6796aeaad"
      },
      "execution_count": null,
      "outputs": [
        {
          "output_type": "stream",
          "name": "stdout",
          "text": [
            "Thought: To determine the difference in total revenue between 2022 and 2023, I need to find the total revenue for both years and compare them.\n",
            "Action: search: total revenue 2022\n",
            "PAUSE\n",
            "Observation: [Document(metadata={}, page_content='Total Revenue 979,651           -                        979,651           \\nNet Assets Released from Restrictions 975,954           (975,954)          -                        \\nTotal Support and Revenue 3,546,026       638,761           4,184,787       \\nExpenses\\nProgram services\\nResearch 1,574,354       -                        1,574,354       \\nEducation and service 1,146,980       -                        1,146,980       \\nDrug Development Collaborative 1,188,427       -                        1,188,427       \\nTotal Program Services 3,909,761       -                        3,909,761       \\nSupporting services\\nManagement and general 538,079           -                        538,079           \\nFundraising 548,618           -                        548,618           \\nTotal Supporting Services 1,086,697       -                        1,086,697       \\nTotal Expenses 4,996,458       -                        4,996,458'), Document(metadata={}, page_content='Earned income 800,000           -                        800,000           \\nInvestment loss (127,884)          -                        (127,884)          \\nTotal Revenue 981,690           -                        981,690           \\nNet Assets Released from Restrictions 1,278,770       (1,278,770)      -                        \\n \\nTotal Support and Revenue 3,908,554       489,031           4,397,585       \\nExpenses\\nProgram services\\nResearch 1,837,520       -                        1,837,520       \\nEducation and service 579,104           -                        579,104           \\nDrug Development Collaborative 943,904           -                        943,904           \\nTotal Program Services 3,360,528       -                        3,360,528       \\nSupporting services\\nManagement and general 377,042           -                        377,042           \\nFundraising 393,619           -                        393,619')]\n",
            "Thought: I have found the total revenue for 2022, which is 979,651, and for 2023, which is 981,690. Now, I need to calculate the difference between these two figures to determine if there is an increase or decrease.\n",
            "Action: calculate: 981,690 - 979,651\n",
            "PAUSE\n",
            "Observation: (981, -289, 651)\n",
            "Observation: The calculation result seems incorrect due to a formatting issue. Let me correct it and calculate again.\n",
            "Action: calculate: 981690 - 979651\n",
            "PAUSE\n",
            "Observation: 2039\n",
            "Thought: The difference in total revenue between 2022 and 2023 is 2,039. Since the total revenue in 2023 (981,690) is greater than in 2022 (979,651), it indicates an increase.\n",
            "\n",
            "Answer: The total revenue increased by 2,039 from 2022 to 2023.\n"
          ]
        }
      ]
    },
    {
      "cell_type": "code",
      "source": [
        "eval(\"981,690 - 979,651\")"
      ],
      "metadata": {
        "colab": {
          "base_uri": "https://localhost:8080/"
        },
        "id": "tIFcASCVGYKz",
        "outputId": "7b23be4f-baff-4eb0-ddd4-430888a1b011"
      },
      "execution_count": null,
      "outputs": [
        {
          "output_type": "execute_result",
          "data": {
            "text/plain": [
              "(981, -289, 651)"
            ]
          },
          "metadata": {},
          "execution_count": 40
        }
      ]
    },
    {
      "cell_type": "markdown",
      "source": [
        "**this is the reason why we need to define proper tools instead of relying on eval to calculate stuff**"
      ],
      "metadata": {
        "id": "j2DV2YdtGdQK"
      }
    },
    {
      "cell_type": "markdown",
      "source": [
        "#### same query, let us increase the size of the  chunk to make sure it contains the year"
      ],
      "metadata": {
        "id": "yhTZf8I8Gte0"
      }
    },
    {
      "cell_type": "code",
      "source": [
        "knowledgeBase = process_text(text, chunk_size=2000)\n",
        "def search(query):\n",
        "    return knowledgeBase.similarity_search(query, k=2)"
      ],
      "metadata": {
        "id": "xOBHGXf4GZD8"
      },
      "execution_count": null,
      "outputs": []
    },
    {
      "cell_type": "code",
      "source": [
        "react_run(query=\"what is the difference between total revenue in 2022 and 2023, is it an increase or decrease?\", system_prompt=system_prompt)"
      ],
      "metadata": {
        "colab": {
          "base_uri": "https://localhost:8080/"
        },
        "id": "n60IOVweHZfj",
        "outputId": "2c857877-86c1-448e-802d-4ed19e732f35"
      },
      "execution_count": null,
      "outputs": [
        {
          "output_type": "stream",
          "name": "stdout",
          "text": [
            "Thought: To determine the difference in total revenue between 2022 and 2023, I need to find the total revenue for both years and compare them.\n",
            "Action: search: total revenue 2022\n",
            "PAUSE\n",
            "Observation: [Document(metadata={}, page_content=\"Total Lease Liabilities 58,103 $          \\n \\n19 \\n National Ataxia Foundation  \\nNotes to the Financial Statements  \\nDecember 31, 2023  and 2022  \\n \\nNote 6: Net Assets with Donor Restrictions  \\n \\nNet assets with donor restrictions were available for the following purposes at December 31:  \\n \\n2023 2022\\nSCA2 Fund 880,250 $        500,000 $        \\nMR Imaging Study Fund 612,044           -                        \\nGeneral Research (Includes stock) 394,144           385,387           \\nCSO Funding 360,800           450,588           \\nSCA3 Clementz 291,120           340,604           \\nAAC Travel Grant 122,635           138,542           \\nSCA3 13,143             138,333           \\nMSA 3,848               3,848               \\nFriedreich's Fund 2,204               6,279               \\nSCA27B Fund 379 -                        \\nCRC SCA I -                        44,415             \\nMillion $ Research Fund -                        33,810             \\nTotal 2,680,567$     2,041,806$     \\n \\n \\n \\nNote 7: Board Designated Net Assets  \\n \\nBoard designated net assets are designated for the purpose of an operating reserve. Board designated net assets are \\n$396,499 and $420,985 as of December 31, 2023  and 2022 , respectively.  \\n \\nNote 8:  Concentrations  \\n \\nFrom time to time, the Foundation’s cash balances at financial institutions exceed Federal Deposit Insurance Corporation \\n(“FDIC”) insurance limits of $250,000. In the years ending December 31, 2023  and 2022 , the Foundation exceeded that \\nlimit by $721,725  and $ 3,113,980 , respectively. Management does not believe this presents a significant risk to the \\nFoundation.  \\n \\nNote 9: In-kind Contributions  \\n \\nThe Foundation ’s in-kind contributions consist of the following in 2023  and 2022 :  \\n \\n2023 2022Usage in \\nPrograms/Activities Fair Value Techniques\\n121,917 $        - $                     Programs and \\nFundraising\\nWebsite Services -                        9,870               Management and \\nGeneralEstimated wholesale price of\"), Document(metadata={}, page_content=\"Meeting expense 266,247           174,878           200                   441,325           22,921             39,905             504,151           \\nMiscellaneous 220                   -                        -                        220                   4,834                915                   5,969                \\nOccupancy -                        -                        -                        -                        61,739             -                        61,739             \\nOffice expense 3,585                281                   -                        3,866                28,405             5,315                37,586             \\nPrinting, marketing and multimedia 504                   524                   -                        1,028                6,831                13,154             21,013             \\nProfessional services 60,657             26,418             17,564             104,639           52,072             16,193             172,904           \\nResearch grants 1,011,330       -                        752,261           1,763,591       1,558                -                        1,765,149       \\nSupport grants -                        3,071                -                        3,071                -                        -                        3,071                \\n \\nTotal Expenses 1,837,520$     579,104 $         943,904 $         3,360,528$      377,042 $         393,619 $         4,131,189$      National Ataxia Foundation\\nStatements of Functional Expenses (Continued)\\nFor the Years Ended December 31, 2023 and 2022\\n2022\\nProgram Services Supporting Services\\nSee Independent Auditor's Report and Notes to the Financial Statements.\\n102023 2022\\nCash Flows from Operating Activities\\nChange in net assets (811,671) $      266,396 $   \\nAdjustment to reconcile change in net assets\\nto net cash provided by operating activities:\\nRealized and unrealized loss (gain) on investments (75,701)  194,093\")]\n",
            "Thought: The search results did not provide the total revenue for 2022. I need to perform another search to find the total revenue for 2022.\n",
            "Action: search: total revenue for 2022\n",
            "PAUSE\n",
            "Observation: [Document(metadata={}, page_content=\"Total Lease Liabilities 58,103 $          \\n \\n19 \\n National Ataxia Foundation  \\nNotes to the Financial Statements  \\nDecember 31, 2023  and 2022  \\n \\nNote 6: Net Assets with Donor Restrictions  \\n \\nNet assets with donor restrictions were available for the following purposes at December 31:  \\n \\n2023 2022\\nSCA2 Fund 880,250 $        500,000 $        \\nMR Imaging Study Fund 612,044           -                        \\nGeneral Research (Includes stock) 394,144           385,387           \\nCSO Funding 360,800           450,588           \\nSCA3 Clementz 291,120           340,604           \\nAAC Travel Grant 122,635           138,542           \\nSCA3 13,143             138,333           \\nMSA 3,848               3,848               \\nFriedreich's Fund 2,204               6,279               \\nSCA27B Fund 379 -                        \\nCRC SCA I -                        44,415             \\nMillion $ Research Fund -                        33,810             \\nTotal 2,680,567$     2,041,806$     \\n \\n \\n \\nNote 7: Board Designated Net Assets  \\n \\nBoard designated net assets are designated for the purpose of an operating reserve. Board designated net assets are \\n$396,499 and $420,985 as of December 31, 2023  and 2022 , respectively.  \\n \\nNote 8:  Concentrations  \\n \\nFrom time to time, the Foundation’s cash balances at financial institutions exceed Federal Deposit Insurance Corporation \\n(“FDIC”) insurance limits of $250,000. In the years ending December 31, 2023  and 2022 , the Foundation exceeded that \\nlimit by $721,725  and $ 3,113,980 , respectively. Management does not believe this presents a significant risk to the \\nFoundation.  \\n \\nNote 9: In-kind Contributions  \\n \\nThe Foundation ’s in-kind contributions consist of the following in 2023  and 2022 :  \\n \\n2023 2022Usage in \\nPrograms/Activities Fair Value Techniques\\n121,917 $        - $                     Programs and \\nFundraising\\nWebsite Services -                        9,870               Management and \\nGeneralEstimated wholesale price of\"), Document(metadata={}, page_content=\"Meeting expense 266,247           174,878           200                   441,325           22,921             39,905             504,151           \\nMiscellaneous 220                   -                        -                        220                   4,834                915                   5,969                \\nOccupancy -                        -                        -                        -                        61,739             -                        61,739             \\nOffice expense 3,585                281                   -                        3,866                28,405             5,315                37,586             \\nPrinting, marketing and multimedia 504                   524                   -                        1,028                6,831                13,154             21,013             \\nProfessional services 60,657             26,418             17,564             104,639           52,072             16,193             172,904           \\nResearch grants 1,011,330       -                        752,261           1,763,591       1,558                -                        1,765,149       \\nSupport grants -                        3,071                -                        3,071                -                        -                        3,071                \\n \\nTotal Expenses 1,837,520$     579,104 $         943,904 $         3,360,528$      377,042 $         393,619 $         4,131,189$      National Ataxia Foundation\\nStatements of Functional Expenses (Continued)\\nFor the Years Ended December 31, 2023 and 2022\\n2022\\nProgram Services Supporting Services\\nSee Independent Auditor's Report and Notes to the Financial Statements.\\n102023 2022\\nCash Flows from Operating Activities\\nChange in net assets (811,671) $      266,396 $   \\nAdjustment to reconcile change in net assets\\nto net cash provided by operating activities:\\nRealized and unrealized loss (gain) on investments (75,701)  194,093\")]\n",
            "Thought: The search results still do not provide the total revenue for 2022. I need to perform another search to find the total revenue for 2023.\n",
            "Action: search: total revenue for 2023\n",
            "PAUSE\n",
            "Observation: [Document(metadata={}, page_content=\"Total Lease Liabilities 58,103 $          \\n \\n19 \\n National Ataxia Foundation  \\nNotes to the Financial Statements  \\nDecember 31, 2023  and 2022  \\n \\nNote 6: Net Assets with Donor Restrictions  \\n \\nNet assets with donor restrictions were available for the following purposes at December 31:  \\n \\n2023 2022\\nSCA2 Fund 880,250 $        500,000 $        \\nMR Imaging Study Fund 612,044           -                        \\nGeneral Research (Includes stock) 394,144           385,387           \\nCSO Funding 360,800           450,588           \\nSCA3 Clementz 291,120           340,604           \\nAAC Travel Grant 122,635           138,542           \\nSCA3 13,143             138,333           \\nMSA 3,848               3,848               \\nFriedreich's Fund 2,204               6,279               \\nSCA27B Fund 379 -                        \\nCRC SCA I -                        44,415             \\nMillion $ Research Fund -                        33,810             \\nTotal 2,680,567$     2,041,806$     \\n \\n \\n \\nNote 7: Board Designated Net Assets  \\n \\nBoard designated net assets are designated for the purpose of an operating reserve. Board designated net assets are \\n$396,499 and $420,985 as of December 31, 2023  and 2022 , respectively.  \\n \\nNote 8:  Concentrations  \\n \\nFrom time to time, the Foundation’s cash balances at financial institutions exceed Federal Deposit Insurance Corporation \\n(“FDIC”) insurance limits of $250,000. In the years ending December 31, 2023  and 2022 , the Foundation exceeded that \\nlimit by $721,725  and $ 3,113,980 , respectively. Management does not believe this presents a significant risk to the \\nFoundation.  \\n \\nNote 9: In-kind Contributions  \\n \\nThe Foundation ’s in-kind contributions consist of the following in 2023  and 2022 :  \\n \\n2023 2022Usage in \\nPrograms/Activities Fair Value Techniques\\n121,917 $        - $                     Programs and \\nFundraising\\nWebsite Services -                        9,870               Management and \\nGeneralEstimated wholesale price of\"), Document(metadata={}, page_content=\"Net Assets Released from Restrictions 975,954           (975,954)          -                        \\nTotal Support and Revenue 3,546,026       638,761           4,184,787       \\nExpenses\\nProgram services\\nResearch 1,574,354       -                        1,574,354       \\nEducation and service 1,146,980       -                        1,146,980       \\nDrug Development Collaborative 1,188,427       -                        1,188,427       \\nTotal Program Services 3,909,761       -                        3,909,761       \\nSupporting services\\nManagement and general 538,079           -                        538,079           \\nFundraising 548,618           -                        548,618           \\nTotal Supporting Services 1,086,697       -                        1,086,697       \\nTotal Expenses 4,996,458       -                        4,996,458       \\nChange in Net Assets (1,450,432)      638,761           (811,671)          \\nBeginning Net Assets 2,384,811       2,041,806       4,426,617       \\nEnding Net Assets 934,379 $        2,680,567$      3,614,946$      2023National Ataxia Foundation\\nStatements of Activities\\nFor the Years Ended December 31, 2023 and 2022\\nSee Independent Auditor's Report and Notes to the Financial Statements.\\n7Without Donor With Donor\\nRestriction Restriction Total\\nSupport and Revenue\\nSupport\\nContributions, memorials and honorariums 1,638,224$     1,767,801$      3,406,025$      \\nIn-kind contributions 9,870               -                        9,870               \\nTotal Support 1,648,094       1,767,801       3,415,895       \\nRevenue\\nConference income 309,574           -                        309,574           \\nEarned income 800,000           -                        800,000           \\nInvestment loss (127,884)          -                        (127,884)          \\nTotal Revenue 981,690           -                        981,690           \\nNet Assets Released from Restrictions 1,278,770       (1,278,770)      -\")]\n",
            "Thought: The search results provide the total revenue for 2023 as $981,690. However, I still need the total revenue for 2022 to determine the difference.\n",
            "Action: search: total revenue for 2022\n",
            "PAUSE\n",
            "Observation: [Document(metadata={}, page_content=\"Total Lease Liabilities 58,103 $          \\n \\n19 \\n National Ataxia Foundation  \\nNotes to the Financial Statements  \\nDecember 31, 2023  and 2022  \\n \\nNote 6: Net Assets with Donor Restrictions  \\n \\nNet assets with donor restrictions were available for the following purposes at December 31:  \\n \\n2023 2022\\nSCA2 Fund 880,250 $        500,000 $        \\nMR Imaging Study Fund 612,044           -                        \\nGeneral Research (Includes stock) 394,144           385,387           \\nCSO Funding 360,800           450,588           \\nSCA3 Clementz 291,120           340,604           \\nAAC Travel Grant 122,635           138,542           \\nSCA3 13,143             138,333           \\nMSA 3,848               3,848               \\nFriedreich's Fund 2,204               6,279               \\nSCA27B Fund 379 -                        \\nCRC SCA I -                        44,415             \\nMillion $ Research Fund -                        33,810             \\nTotal 2,680,567$     2,041,806$     \\n \\n \\n \\nNote 7: Board Designated Net Assets  \\n \\nBoard designated net assets are designated for the purpose of an operating reserve. Board designated net assets are \\n$396,499 and $420,985 as of December 31, 2023  and 2022 , respectively.  \\n \\nNote 8:  Concentrations  \\n \\nFrom time to time, the Foundation’s cash balances at financial institutions exceed Federal Deposit Insurance Corporation \\n(“FDIC”) insurance limits of $250,000. In the years ending December 31, 2023  and 2022 , the Foundation exceeded that \\nlimit by $721,725  and $ 3,113,980 , respectively. Management does not believe this presents a significant risk to the \\nFoundation.  \\n \\nNote 9: In-kind Contributions  \\n \\nThe Foundation ’s in-kind contributions consist of the following in 2023  and 2022 :  \\n \\n2023 2022Usage in \\nPrograms/Activities Fair Value Techniques\\n121,917 $        - $                     Programs and \\nFundraising\\nWebsite Services -                        9,870               Management and \\nGeneralEstimated wholesale price of\"), Document(metadata={}, page_content=\"Meeting expense 266,247           174,878           200                   441,325           22,921             39,905             504,151           \\nMiscellaneous 220                   -                        -                        220                   4,834                915                   5,969                \\nOccupancy -                        -                        -                        -                        61,739             -                        61,739             \\nOffice expense 3,585                281                   -                        3,866                28,405             5,315                37,586             \\nPrinting, marketing and multimedia 504                   524                   -                        1,028                6,831                13,154             21,013             \\nProfessional services 60,657             26,418             17,564             104,639           52,072             16,193             172,904           \\nResearch grants 1,011,330       -                        752,261           1,763,591       1,558                -                        1,765,149       \\nSupport grants -                        3,071                -                        3,071                -                        -                        3,071                \\n \\nTotal Expenses 1,837,520$     579,104 $         943,904 $         3,360,528$      377,042 $         393,619 $         4,131,189$      National Ataxia Foundation\\nStatements of Functional Expenses (Continued)\\nFor the Years Ended December 31, 2023 and 2022\\n2022\\nProgram Services Supporting Services\\nSee Independent Auditor's Report and Notes to the Financial Statements.\\n102023 2022\\nCash Flows from Operating Activities\\nChange in net assets (811,671) $      266,396 $   \\nAdjustment to reconcile change in net assets\\nto net cash provided by operating activities:\\nRealized and unrealized loss (gain) on investments (75,701)  194,093\")]\n",
            "Thought: The search results still do not provide the total revenue for 2022. I will attempt another search to find the total revenue for 2022.\n",
            "Action: search: 2022 total revenue\n",
            "PAUSE\n",
            "Observation: [Document(metadata={}, page_content=\"Net Assets Released from Restrictions 975,954           (975,954)          -                        \\nTotal Support and Revenue 3,546,026       638,761           4,184,787       \\nExpenses\\nProgram services\\nResearch 1,574,354       -                        1,574,354       \\nEducation and service 1,146,980       -                        1,146,980       \\nDrug Development Collaborative 1,188,427       -                        1,188,427       \\nTotal Program Services 3,909,761       -                        3,909,761       \\nSupporting services\\nManagement and general 538,079           -                        538,079           \\nFundraising 548,618           -                        548,618           \\nTotal Supporting Services 1,086,697       -                        1,086,697       \\nTotal Expenses 4,996,458       -                        4,996,458       \\nChange in Net Assets (1,450,432)      638,761           (811,671)          \\nBeginning Net Assets 2,384,811       2,041,806       4,426,617       \\nEnding Net Assets 934,379 $        2,680,567$      3,614,946$      2023National Ataxia Foundation\\nStatements of Activities\\nFor the Years Ended December 31, 2023 and 2022\\nSee Independent Auditor's Report and Notes to the Financial Statements.\\n7Without Donor With Donor\\nRestriction Restriction Total\\nSupport and Revenue\\nSupport\\nContributions, memorials and honorariums 1,638,224$     1,767,801$      3,406,025$      \\nIn-kind contributions 9,870               -                        9,870               \\nTotal Support 1,648,094       1,767,801       3,415,895       \\nRevenue\\nConference income 309,574           -                        309,574           \\nEarned income 800,000           -                        800,000           \\nInvestment loss (127,884)          -                        (127,884)          \\nTotal Revenue 981,690           -                        981,690           \\nNet Assets Released from Restrictions 1,278,770       (1,278,770)      -\"), Document(metadata={}, page_content=\"Meeting expense 266,247           174,878           200                   441,325           22,921             39,905             504,151           \\nMiscellaneous 220                   -                        -                        220                   4,834                915                   5,969                \\nOccupancy -                        -                        -                        -                        61,739             -                        61,739             \\nOffice expense 3,585                281                   -                        3,866                28,405             5,315                37,586             \\nPrinting, marketing and multimedia 504                   524                   -                        1,028                6,831                13,154             21,013             \\nProfessional services 60,657             26,418             17,564             104,639           52,072             16,193             172,904           \\nResearch grants 1,011,330       -                        752,261           1,763,591       1,558                -                        1,765,149       \\nSupport grants -                        3,071                -                        3,071                -                        -                        3,071                \\n \\nTotal Expenses 1,837,520$     579,104 $         943,904 $         3,360,528$      377,042 $         393,619 $         4,131,189$      National Ataxia Foundation\\nStatements of Functional Expenses (Continued)\\nFor the Years Ended December 31, 2023 and 2022\\n2022\\nProgram Services Supporting Services\\nSee Independent Auditor's Report and Notes to the Financial Statements.\\n102023 2022\\nCash Flows from Operating Activities\\nChange in net assets (811,671) $      266,396 $   \\nAdjustment to reconcile change in net assets\\nto net cash provided by operating activities:\\nRealized and unrealized loss (gain) on investments (75,701)  194,093\")]\n",
            "Thought: The search results still do not provide the total revenue for 2022. I will attempt another search to find the total revenue for 2022.\n",
            "Action: search: total revenue 2022 financial statement\n",
            "PAUSE\n",
            "Observation: [Document(metadata={}, page_content=\"Meeting expense 266,247           174,878           200                   441,325           22,921             39,905             504,151           \\nMiscellaneous 220                   -                        -                        220                   4,834                915                   5,969                \\nOccupancy -                        -                        -                        -                        61,739             -                        61,739             \\nOffice expense 3,585                281                   -                        3,866                28,405             5,315                37,586             \\nPrinting, marketing and multimedia 504                   524                   -                        1,028                6,831                13,154             21,013             \\nProfessional services 60,657             26,418             17,564             104,639           52,072             16,193             172,904           \\nResearch grants 1,011,330       -                        752,261           1,763,591       1,558                -                        1,765,149       \\nSupport grants -                        3,071                -                        3,071                -                        -                        3,071                \\n \\nTotal Expenses 1,837,520$     579,104 $         943,904 $         3,360,528$      377,042 $         393,619 $         4,131,189$      National Ataxia Foundation\\nStatements of Functional Expenses (Continued)\\nFor the Years Ended December 31, 2023 and 2022\\n2022\\nProgram Services Supporting Services\\nSee Independent Auditor's Report and Notes to the Financial Statements.\\n102023 2022\\nCash Flows from Operating Activities\\nChange in net assets (811,671) $      266,396 $   \\nAdjustment to reconcile change in net assets\\nto net cash provided by operating activities:\\nRealized and unrealized loss (gain) on investments (75,701)  194,093\"), Document(metadata={}, page_content=\"Total Lease Liabilities 58,103 $          \\n \\n19 \\n National Ataxia Foundation  \\nNotes to the Financial Statements  \\nDecember 31, 2023  and 2022  \\n \\nNote 6: Net Assets with Donor Restrictions  \\n \\nNet assets with donor restrictions were available for the following purposes at December 31:  \\n \\n2023 2022\\nSCA2 Fund 880,250 $        500,000 $        \\nMR Imaging Study Fund 612,044           -                        \\nGeneral Research (Includes stock) 394,144           385,387           \\nCSO Funding 360,800           450,588           \\nSCA3 Clementz 291,120           340,604           \\nAAC Travel Grant 122,635           138,542           \\nSCA3 13,143             138,333           \\nMSA 3,848               3,848               \\nFriedreich's Fund 2,204               6,279               \\nSCA27B Fund 379 -                        \\nCRC SCA I -                        44,415             \\nMillion $ Research Fund -                        33,810             \\nTotal 2,680,567$     2,041,806$     \\n \\n \\n \\nNote 7: Board Designated Net Assets  \\n \\nBoard designated net assets are designated for the purpose of an operating reserve. Board designated net assets are \\n$396,499 and $420,985 as of December 31, 2023  and 2022 , respectively.  \\n \\nNote 8:  Concentrations  \\n \\nFrom time to time, the Foundation’s cash balances at financial institutions exceed Federal Deposit Insurance Corporation \\n(“FDIC”) insurance limits of $250,000. In the years ending December 31, 2023  and 2022 , the Foundation exceeded that \\nlimit by $721,725  and $ 3,113,980 , respectively. Management does not believe this presents a significant risk to the \\nFoundation.  \\n \\nNote 9: In-kind Contributions  \\n \\nThe Foundation ’s in-kind contributions consist of the following in 2023  and 2022 :  \\n \\n2023 2022Usage in \\nPrograms/Activities Fair Value Techniques\\n121,917 $        - $                     Programs and \\nFundraising\\nWebsite Services -                        9,870               Management and \\nGeneralEstimated wholesale price of\")]\n",
            "Thought: The search results still do not provide the total revenue for 2022. I will attempt another search to find the total revenue for 2022.\n",
            "Action: search: 2022 financial statement total revenue\n",
            "PAUSE\n",
            "Observation: [Document(metadata={}, page_content=\"Meeting expense 266,247           174,878           200                   441,325           22,921             39,905             504,151           \\nMiscellaneous 220                   -                        -                        220                   4,834                915                   5,969                \\nOccupancy -                        -                        -                        -                        61,739             -                        61,739             \\nOffice expense 3,585                281                   -                        3,866                28,405             5,315                37,586             \\nPrinting, marketing and multimedia 504                   524                   -                        1,028                6,831                13,154             21,013             \\nProfessional services 60,657             26,418             17,564             104,639           52,072             16,193             172,904           \\nResearch grants 1,011,330       -                        752,261           1,763,591       1,558                -                        1,765,149       \\nSupport grants -                        3,071                -                        3,071                -                        -                        3,071                \\n \\nTotal Expenses 1,837,520$     579,104 $         943,904 $         3,360,528$      377,042 $         393,619 $         4,131,189$      National Ataxia Foundation\\nStatements of Functional Expenses (Continued)\\nFor the Years Ended December 31, 2023 and 2022\\n2022\\nProgram Services Supporting Services\\nSee Independent Auditor's Report and Notes to the Financial Statements.\\n102023 2022\\nCash Flows from Operating Activities\\nChange in net assets (811,671) $      266,396 $   \\nAdjustment to reconcile change in net assets\\nto net cash provided by operating activities:\\nRealized and unrealized loss (gain) on investments (75,701)  194,093\"), Document(metadata={}, page_content=\"Net Assets Released from Restrictions 1,278,770       (1,278,770)      -                        \\n \\nTotal Support and Revenue 3,908,554       489,031           4,397,585       \\nExpenses\\nProgram services\\nResearch 1,837,520       -                        1,837,520       \\nEducation and service 579,104           -                        579,104           \\nDrug Development Collaborative 943,904           -                        943,904           \\nTotal Program Services 3,360,528       -                        3,360,528       \\nSupporting services\\nManagement and general 377,042           -                        377,042           \\nFundraising 393,619           -                        393,619           \\nTotal Supporting Services 770,661           -                        770,661           \\nTotal Expenses 4,131,189       -                        4,131,189       \\nChange in Net Assets (222,635)          489,031           266,396           \\nBeginning Net Assets 2,607,446       1,552,775       4,160,221       \\nEnding Net Assets 2,384,811$     2,041,806$      4,426,617$      2022National Ataxia Foundation\\nStatements of Activities (Continued)\\nFor the Years Ended December 31, 2023 and 2022\\nSee Independent Auditor's Report and Notes to the Financial Statements.\\n8Drug\\nEducation Development Total Program Management\\nResearch and Service Collaborative Services and General Fundraising Total\\nSalaries and Related Expenses\\nSalaries and wages 494,104 $        362,830 $          162,033 $         1,018,967$      138,082 $         293,427 $         1,450,476$      \\nPayroll taxes 38,208             27,159               12,319             77,686             9,732                21,710             109,128           \\nFringe benefits 45,455             52,132               13,763             111,350           21,428             39,024             171,802\")]\n",
            "Thought: I have found the total revenue for 2022, which is $4,397,585. Now, I can calculate the difference between the total revenue for 2022 and 2023 to determine if there was an increase or decrease.\n",
            "Action: calculate: 981690 - 4397585\n",
            "PAUSE\n",
            "Observation: -3415895\n",
            "Thought: The total revenue decreased by $3,415,895 from 2022 to 2023. This indicates a significant decrease in total revenue.\n",
            "\n",
            "Answer: The total revenue decreased by $3,415,895 from 2022 to 2023, indicating a significant decrease.\n"
          ]
        }
      ]
    },
    {
      "cell_type": "markdown",
      "source": [
        "**The RAG fails agian**\n",
        "\n",
        "**RAG fails to retrieve the correct chunks**"
      ],
      "metadata": {
        "id": "5ElMYGHYIAYz"
      }
    },
    {
      "cell_type": "markdown",
      "source": [
        "#### same query, but this time, only RAG only returns 1 document chunk from retrieval, see whether LLM will first search 2022, then 2023, use 1000 chunk size again."
      ],
      "metadata": {
        "id": "w6-X7mK3KuAd"
      }
    },
    {
      "cell_type": "code",
      "source": [
        "knowledgeBase = process_text(text, chunk_size=1000)\n",
        "def search(query):\n",
        "    return knowledgeBase.similarity_search(query, k=1)"
      ],
      "metadata": {
        "id": "pxiShnohIDXK"
      },
      "execution_count": null,
      "outputs": []
    },
    {
      "cell_type": "code",
      "source": [
        "react_run(query=\"what is the difference between total revenue in 2022 and 2023, is it an increase or decrease?\", tools=tools, system_prompt=system_prompt)"
      ],
      "metadata": {
        "id": "GSi217QOLPkZ",
        "colab": {
          "base_uri": "https://localhost:8080/"
        },
        "outputId": "062b41f4-4bd3-4ce0-eab2-3ed4ad2942a9"
      },
      "execution_count": 49,
      "outputs": [
        {
          "output_type": "stream",
          "name": "stdout",
          "text": [
            "Thought: To determine the difference in total revenue between 2022 and 2023, I need to find the total revenue for both years and compare them.\n",
            "Action: search: total revenue 2022\n",
            "PAUSE\n",
            "Observation: [Document(metadata={}, page_content='Total Revenue 979,651           -                        979,651           \\nNet Assets Released from Restrictions 975,954           (975,954)          -                        \\nTotal Support and Revenue 3,546,026       638,761           4,184,787       \\nExpenses\\nProgram services\\nResearch 1,574,354       -                        1,574,354       \\nEducation and service 1,146,980       -                        1,146,980       \\nDrug Development Collaborative 1,188,427       -                        1,188,427       \\nTotal Program Services 3,909,761       -                        3,909,761       \\nSupporting services\\nManagement and general 538,079           -                        538,079           \\nFundraising 548,618           -                        548,618           \\nTotal Supporting Services 1,086,697       -                        1,086,697       \\nTotal Expenses 4,996,458       -                        4,996,458')]\n",
            "Thought: I have found the total revenue for 2022, which is 979,651. Now, I need to find the total revenue for 2023 to determine the difference.\n",
            "Action: search: total revenue 2023\n",
            "PAUSE\n",
            "Observation: [Document(metadata={}, page_content='Total Revenue 979,651           -                        979,651           \\nNet Assets Released from Restrictions 975,954           (975,954)          -                        \\nTotal Support and Revenue 3,546,026       638,761           4,184,787       \\nExpenses\\nProgram services\\nResearch 1,574,354       -                        1,574,354       \\nEducation and service 1,146,980       -                        1,146,980       \\nDrug Development Collaborative 1,188,427       -                        1,188,427       \\nTotal Program Services 3,909,761       -                        3,909,761       \\nSupporting services\\nManagement and general 538,079           -                        538,079           \\nFundraising 548,618           -                        548,618           \\nTotal Supporting Services 1,086,697       -                        1,086,697       \\nTotal Expenses 4,996,458       -                        4,996,458')]\n",
            "Thought: The total revenue for 2023 is also 979,651, the same as in 2022. Therefore, there is no difference in total revenue between 2022 and 2023.\n",
            "Answer: The total revenue in 2022 and 2023 is the same, 979,651, indicating no increase or decrease.\n"
          ]
        }
      ]
    },
    {
      "cell_type": "markdown",
      "source": [
        "* the LLM does first search 2022, then search 2023.\n",
        "* <font color='red'>when only 1 document chunk is returned, the LLM assume that is the correct answer, when two searches both return the same result, the LLM think there is no difference.</font>"
      ],
      "metadata": {
        "id": "acCHBiT2L1nw"
      }
    },
    {
      "cell_type": "markdown",
      "source": [
        "#### same query, this time do not provide relevant example in the system_prompt"
      ],
      "metadata": {
        "id": "TYKiECS0Uw3p"
      }
    },
    {
      "cell_type": "code",
      "source": [
        "tools=[\"search\",\"calculate\"]"
      ],
      "metadata": {
        "id": "ECA1ktsMMGIc"
      },
      "execution_count": 11,
      "outputs": []
    },
    {
      "cell_type": "code",
      "source": [
        "knowledgeBase = process_text(text, chunk_size=1000)\n",
        "def search(query):\n",
        "    return knowledgeBase.similarity_search(query, k=1)\n",
        "\n",
        "def calculate(operation: str) -> float:\n",
        "    return eval(operation)"
      ],
      "metadata": {
        "id": "iA4HiBeZVIk3"
      },
      "execution_count": 12,
      "outputs": []
    },
    {
      "cell_type": "code",
      "source": [
        "system_prompt = \"\"\"\n",
        "you are a financial expert and an underwriter working for commerical banking of a bank.\n",
        "You run in a loop of Thought, Action, PAUSE, Observation.\n",
        "At the end of the loop you output an Answer\n",
        "Use Thought to describe your thoughts about the question you have been asked.\n",
        "Use Action to run one of the actions available to you - then return PAUSE.\n",
        "Observation will be the result of running those actions.\n",
        "\n",
        "Your available actions are:\n",
        "\n",
        "search:\n",
        "e.g. search: total income\n",
        "Runs a serach function in the knowledge base and return relevant information as chunks of text.\n",
        "\n",
        "\n",
        "Example session:\n",
        "\n",
        "Question: What is the mass of Earth times 2?\n",
        "Thought: I need to find the mass of Earth\n",
        "Action: get_planet_mass: Earth\n",
        "PAUSE\n",
        "\n",
        "You will be called again with this:\n",
        "\n",
        "Observation: 5.972e24\n",
        "\n",
        "Thought: I need to multiply this by 2\n",
        "Action: calculate: 5.972e24 * 2\n",
        "PAUSE\n",
        "\n",
        "You will be called again with this:\n",
        "\n",
        "Observation: 1,1944×10e25\n",
        "\n",
        "If you have the answer, output it as the Answer.\n",
        "\n",
        "Answer: The mass of Earth times 2 is 1,1944×10e25.\n",
        "\n",
        "Now it's your turn:\n",
        "\"\"\".strip()"
      ],
      "metadata": {
        "id": "uaz8mfskVPgP"
      },
      "execution_count": 15,
      "outputs": []
    },
    {
      "cell_type": "code",
      "source": [
        "react_run(query=\"what is the difference between total revenue in 2022 and 2023, is it an increase or decrease?\", tools=tools, system_prompt=system_prompt)"
      ],
      "metadata": {
        "colab": {
          "base_uri": "https://localhost:8080/"
        },
        "id": "JG4JAADXV8S1",
        "outputId": "ec4011d1-9c6f-421d-ddee-5be186fc6dbd"
      },
      "execution_count": 17,
      "outputs": [
        {
          "output_type": "stream",
          "name": "stdout",
          "text": [
            "Thought: I need to find the total revenue for both 2022 and 2023 to determine the difference and whether it is an increase or decrease.\n",
            "Action: search: total revenue 2022\n",
            "PAUSE\n",
            "Observation: [Document(metadata={}, page_content='Total Revenue 979,651           -                        979,651           \\nNet Assets Released from Restrictions 975,954           (975,954)          -                        \\nTotal Support and Revenue 3,546,026       638,761           4,184,787       \\nExpenses\\nProgram services\\nResearch 1,574,354       -                        1,574,354       \\nEducation and service 1,146,980       -                        1,146,980       \\nDrug Development Collaborative 1,188,427       -                        1,188,427       \\nTotal Program Services 3,909,761       -                        3,909,761       \\nSupporting services\\nManagement and general 538,079           -                        538,079           \\nFundraising 548,618           -                        548,618           \\nTotal Supporting Services 1,086,697       -                        1,086,697       \\nTotal Expenses 4,996,458       -                        4,996,458')]\n",
            "Thought: I have found the total revenue for 2022, which is 979,651. Now, I need to find the total revenue for 2023 to compare the two.\n",
            "Action: search: total revenue 2023\n",
            "PAUSE\n",
            "Observation: [Document(metadata={}, page_content='Total Revenue 979,651           -                        979,651           \\nNet Assets Released from Restrictions 975,954           (975,954)          -                        \\nTotal Support and Revenue 3,546,026       638,761           4,184,787       \\nExpenses\\nProgram services\\nResearch 1,574,354       -                        1,574,354       \\nEducation and service 1,146,980       -                        1,146,980       \\nDrug Development Collaborative 1,188,427       -                        1,188,427       \\nTotal Program Services 3,909,761       -                        3,909,761       \\nSupporting services\\nManagement and general 538,079           -                        538,079           \\nFundraising 548,618           -                        548,618           \\nTotal Supporting Services 1,086,697       -                        1,086,697       \\nTotal Expenses 4,996,458       -                        4,996,458')]\n",
            "Thought: The search results for 2023 seem to be the same as those for 2022, which suggests that the data might not have been updated or there is an error. I need to verify if there is any other source or document that provides the 2023 revenue data.\n",
            "Action: search: updated total revenue 2023\n",
            "PAUSE\n",
            "Observation: [Document(metadata={}, page_content='Total Revenue 979,651           -                        979,651           \\nNet Assets Released from Restrictions 975,954           (975,954)          -                        \\nTotal Support and Revenue 3,546,026       638,761           4,184,787       \\nExpenses\\nProgram services\\nResearch 1,574,354       -                        1,574,354       \\nEducation and service 1,146,980       -                        1,146,980       \\nDrug Development Collaborative 1,188,427       -                        1,188,427       \\nTotal Program Services 3,909,761       -                        3,909,761       \\nSupporting services\\nManagement and general 538,079           -                        538,079           \\nFundraising 548,618           -                        548,618           \\nTotal Supporting Services 1,086,697       -                        1,086,697       \\nTotal Expenses 4,996,458       -                        4,996,458')]\n",
            "Thought: The search results continue to show the same data for both 2022 and 2023, indicating that there might be a lack of updated information for 2023. Without the 2023 revenue data, I cannot determine the difference or whether there is an increase or decrease.\n",
            "\n",
            "Answer: I am unable to determine the difference between total revenue in 2022 and 2023 due to a lack of updated information for 2023.\n"
          ]
        }
      ]
    },
    {
      "cell_type": "markdown",
      "source": [
        "**after changing the prompt to the examples from the youtube video, which is a totally different example using different method. The ReAct still works, but this time it is more intelligent, it found out that the returned chunks are the same during each iteration, so no answer can be given**"
      ],
      "metadata": {
        "id": "-9spk5zHZDDk"
      }
    },
    {
      "cell_type": "markdown",
      "source": [
        "#### additional test on multi-hop reasoning"
      ],
      "metadata": {
        "id": "DdibsahScp8L"
      }
    },
    {
      "cell_type": "code",
      "source": [
        "question='What is the minimum cost of an item required for it to be classified as equipment according to the accounting rule'\n",
        "react_run(query=question, tools=tools, system_prompt=system_prompt)"
      ],
      "metadata": {
        "colab": {
          "base_uri": "https://localhost:8080/"
        },
        "id": "9I-YG_8kZYkn",
        "outputId": "72336103-4dee-4c8b-919c-c84d5e94d56b"
      },
      "execution_count": 21,
      "outputs": [
        {
          "output_type": "stream",
          "name": "stdout",
          "text": [
            "Thought: To answer this question, I need to find the accounting rule that specifies the minimum cost for an item to be classified as equipment. I will search for this information.\n",
            "Action: search: minimum cost of an item to be classified as equipment according to accounting rules\n",
            "PAUSE\n",
            "Observation: [Document(metadata={}, page_content='Note 1:  Summary of Significant Accounting Policies (Continued)  \\n \\nJ. Property and Equipment  \\n \\nProperty and equipment are capitalized at cost. Depreciation is provided for using the straight -line method over the \\nestimated useful life of the asset. The Foundation considers items with a cost greater than $2,500 and a useful life \\ngreater than one year to be property and equipment. Items below $2,500 are expensed when purchased.  \\n \\nK. Functional Expenses  \\n \\nThe costs of providing program and other activities have been summarized on a functional basis in the statements of \\nactivities. Accordingly, certain costs have been allocated among the programs and supporting services benefited. The \\ncosts are allocated bas ed on time spent by employees or by management’s estimates.  \\n \\nExpense Method of Allocation\\nSalaries and Benefits Based on time allocation\\nOccupancy Unallocated\\nPrinting, marketing and multimedia Direct expense\\nProfessional services Direct expense')]\n",
            "Answer: According to the accounting rule provided, an item must have a cost greater than $2,500 and a useful life greater than one year to be classified as property and equipment. Items below $2,500 are expensed when purchased.\n"
          ]
        }
      ]
    },
    {
      "cell_type": "code",
      "source": [
        "question='Mary bought a $1k computer for the company, can it be considered as an equipment'\n",
        "react_run(query=question, tools=tools, system_prompt=system_prompt)"
      ],
      "metadata": {
        "colab": {
          "base_uri": "https://localhost:8080/"
        },
        "id": "UKhmndKUcviv",
        "outputId": "99457303-752a-45ab-a366-16f3f6e71bd1"
      },
      "execution_count": 22,
      "outputs": [
        {
          "output_type": "stream",
          "name": "stdout",
          "text": [
            "Thought: To determine if the $1,000 computer can be considered as equipment, I need to understand the accounting definition of equipment and the criteria used to classify an asset as equipment. Typically, equipment is a long-term asset used in operations, but I need to confirm this with specific criteria or guidelines.\n",
            "\n",
            "Action: search: accounting definition of equipment\n",
            "PAUSE\n",
            "Observation: [Document(metadata={}, page_content='Note 1:  Summary of Significant Accounting Policies (Continued)  \\n \\nJ. Property and Equipment  \\n \\nProperty and equipment are capitalized at cost. Depreciation is provided for using the straight -line method over the \\nestimated useful life of the asset. The Foundation considers items with a cost greater than $2,500 and a useful life \\ngreater than one year to be property and equipment. Items below $2,500 are expensed when purchased.  \\n \\nK. Functional Expenses  \\n \\nThe costs of providing program and other activities have been summarized on a functional basis in the statements of \\nactivities. Accordingly, certain costs have been allocated among the programs and supporting services benefited. The \\ncosts are allocated bas ed on time spent by employees or by management’s estimates.  \\n \\nExpense Method of Allocation\\nSalaries and Benefits Based on time allocation\\nOccupancy Unallocated\\nPrinting, marketing and multimedia Direct expense\\nProfessional services Direct expense')]\n",
            "Thought: According to the accounting policy document, items with a cost greater than $2,500 and a useful life greater than one year are considered property and equipment. Since the computer Mary bought cost $1,000, it does not meet the cost threshold to be capitalized as equipment according to this specific policy. Therefore, it would likely be expensed when purchased.\n",
            "\n",
            "Answer: The $1,000 computer cannot be considered as equipment based on the provided accounting policy, as it does not meet the cost threshold of $2,500 to be capitalized as equipment. It would typically be expensed when purchased.\n"
          ]
        }
      ]
    },
    {
      "cell_type": "markdown",
      "source": [
        "**the ReAct agent successfully demonstrates the ability to do simple multihop reasoning**"
      ],
      "metadata": {
        "id": "1hvu_iNVdJNB"
      }
    },
    {
      "cell_type": "code",
      "source": [
        "question='Mary bought a $3k computer for the company, where should this money go on the income statement'\n",
        "react_run(query=question, tools=tools, system_prompt=system_prompt)"
      ],
      "metadata": {
        "colab": {
          "base_uri": "https://localhost:8080/"
        },
        "id": "ReLxEG21dbM_",
        "outputId": "cb0ca2b2-4713-4635-f0b6-b2ec602ba5e1"
      },
      "execution_count": 23,
      "outputs": [
        {
          "output_type": "stream",
          "name": "stdout",
          "text": [
            "Thought: To determine where the purchase of a computer should be recorded on the income statement, I need to understand the nature of the transaction and how it affects the financial statements. The purchase of a computer is a capital expenditure and typically does not directly appear on the income statement. Instead, it is capitalized as an asset and then depreciated over time. However, the depreciation expense related to the computer will appear on the income statement. I will search for information on how capital expenditures and depreciation are treated in financial statements.\n",
            "\n",
            "Action: search: capital expenditure and depreciation treatment in financial statements\n",
            "PAUSE\n",
            "Observation: [Document(metadata={}, page_content='Note 1:  Summary of Significant Accounting Policies (Continued)  \\n \\nJ. Property and Equipment  \\n \\nProperty and equipment are capitalized at cost. Depreciation is provided for using the straight -line method over the \\nestimated useful life of the asset. The Foundation considers items with a cost greater than $2,500 and a useful life \\ngreater than one year to be property and equipment. Items below $2,500 are expensed when purchased.  \\n \\nK. Functional Expenses  \\n \\nThe costs of providing program and other activities have been summarized on a functional basis in the statements of \\nactivities. Accordingly, certain costs have been allocated among the programs and supporting services benefited. The \\ncosts are allocated bas ed on time spent by employees or by management’s estimates.  \\n \\nExpense Method of Allocation\\nSalaries and Benefits Based on time allocation\\nOccupancy Unallocated\\nPrinting, marketing and multimedia Direct expense\\nProfessional services Direct expense')]\n",
            "Thought: The document indicates that property and equipment are capitalized at cost and depreciated over their useful life. Since the computer costs $3,000, which is above the $2,500 threshold mentioned, it should be capitalized as an asset. The depreciation expense related to the computer will appear on the income statement over time. Therefore, the initial purchase of the computer does not directly appear on the income statement, but the depreciation expense will be recorded as an operating expense.\n",
            "\n",
            "Answer: The $3,000 spent on the computer should not directly appear on the income statement. Instead, it should be capitalized as an asset on the balance sheet. Over time, the depreciation expense related to the computer will be recorded on the income statement as an operating expense.\n"
          ]
        }
      ]
    },
    {
      "cell_type": "markdown",
      "source": [
        "#### try implement a function called check_value, to trigger LLM to check the price of certain items"
      ],
      "metadata": {
        "id": "z5lYhag-dQj7"
      }
    },
    {
      "cell_type": "code",
      "source": [
        "def check_value(name: str) -> float:\n",
        "    if name=='Mac':\n",
        "        return 3000\n",
        "    elif name=='iphone':\n",
        "        return 1000\n",
        "    else:\n",
        "        return 500\n",
        "tools=[\"search\",\"calculate\",\"check_value\"]\n",
        "\n",
        "system_prompt = \"\"\"\n",
        "you are a financial expert and an underwriter working for commerical banking of a bank.\n",
        "You run in a loop of Thought, Action, PAUSE, Observation.\n",
        "At the end of the loop you output an Answer\n",
        "Use Thought to describe your thoughts about the question you have been asked.\n",
        "Use Action to run one of the actions available to you - then return PAUSE.\n",
        "Observation will be the result of running those actions.\n",
        "\n",
        "Your available actions are:\n",
        "\n",
        "search:\n",
        "e.g. search: total income\n",
        "Runs a serach function in the knowledge base and return relevant information as chunks of text.\n",
        "\n",
        "calculate:\n",
        "e.g. calculate: 4 * 7 / 3\n",
        "Runs a calculation and returns the number - uses Python so be sure to use floating point syntax if necessary\n",
        "\n",
        "check_value:\n",
        "e.g., check_value: iMac\n",
        "Runs a check_value function that return the price/value of an item in dollars\n",
        "\n",
        "Example session:\n",
        "\n",
        "Question: analyze financial performance of Apple Inc and potential drivers?\n",
        "Thought: to analyse finanial performance, I need to know Apple's total revenue, so I need to search its total revenue\n",
        "Action: search: Apple Inc total revenue\n",
        "PAUSE\n",
        "\n",
        "You will be called again with this:\n",
        "\n",
        "Observation: Document(metadata={}, page_content='Total Revenue 979,651...'\n",
        "\n",
        "Thought: to know the potential drivers, I need to know the buisness composition of Apple, so I need to search its buisness composition\n",
        "Action: search: Apple Inc buisness composition\n",
        "PAUSE\n",
        "\n",
        "You will be called again with this:\n",
        "\n",
        "Observation: Document(metadata={}, page_content='Apple's business composition includes iPhone: Major revenue driver. Mac: Laptops and desktops...'\n",
        "\n",
        "If you have the answer, output it as the Answer.\n",
        "\n",
        "Answer: Apple's financial performance is strong with a total revenue of 979,651, which is drived by iPhone sales.\n",
        "\n",
        "Now it's your turn:\n",
        "\"\"\".strip()\n"
      ],
      "metadata": {
        "id": "CLExYAVZc5-2"
      },
      "execution_count": 29,
      "outputs": []
    },
    {
      "cell_type": "code",
      "source": [
        "question='Marry bought a Mac for the company, where should this money go on the income statement'\n",
        "react_run(query=question, tools=tools, system_prompt=system_prompt)"
      ],
      "metadata": {
        "colab": {
          "base_uri": "https://localhost:8080/"
        },
        "id": "Rtw6SrvlfC4q",
        "outputId": "309ef4f7-21e3-421d-e6d1-f66b6d2ed481"
      },
      "execution_count": 30,
      "outputs": [
        {
          "output_type": "stream",
          "name": "stdout",
          "text": [
            "Thought: To determine where the purchase of a Mac should be recorded on the income statement, I need to understand the nature of the transaction and how it affects the company's financials. The purchase of a Mac is a capital expenditure, which typically does not appear directly on the income statement. Instead, it is recorded as an asset on the balance sheet and then depreciated over time. The depreciation expense is what appears on the income statement. I will confirm this by searching for information on how capital expenditures and depreciation are recorded in financial statements.\n",
            "\n",
            "Action: search: capital expenditure and depreciation on income statement\n",
            "PAUSE\n",
            "Observation: [Document(metadata={}, page_content='Note 1:  Summary of Significant Accounting Policies (Continued)  \\n \\nJ. Property and Equipment  \\n \\nProperty and equipment are capitalized at cost. Depreciation is provided for using the straight -line method over the \\nestimated useful life of the asset. The Foundation considers items with a cost greater than $2,500 and a useful life \\ngreater than one year to be property and equipment. Items below $2,500 are expensed when purchased.  \\n \\nK. Functional Expenses  \\n \\nThe costs of providing program and other activities have been summarized on a functional basis in the statements of \\nactivities. Accordingly, certain costs have been allocated among the programs and supporting services benefited. The \\ncosts are allocated bas ed on time spent by employees or by management’s estimates.  \\n \\nExpense Method of Allocation\\nSalaries and Benefits Based on time allocation\\nOccupancy Unallocated\\nPrinting, marketing and multimedia Direct expense\\nProfessional services Direct expense')]\n",
            "Thought: The document confirms that property and equipment are capitalized at cost and depreciated over their useful life. This means that the purchase of a Mac would be recorded as an asset on the balance sheet and not directly on the income statement. However, the depreciation expense related to the Mac would be recorded on the income statement over time. Therefore, the money spent on purchasing the Mac does not directly appear on the income statement, but the depreciation expense does.\n",
            "\n",
            "Answer: The money spent on purchasing the Mac does not directly appear on the income statement. Instead, the Mac is recorded as an asset on the balance sheet, and its cost is expensed over time through depreciation, which appears on the income statement.\n"
          ]
        }
      ]
    },
    {
      "cell_type": "markdown",
      "source": [
        "**the LLM does not use our method, it just uses it internal knowledge to determine the price of Mac**"
      ],
      "metadata": {
        "id": "vZesvuvRe_Mn"
      }
    },
    {
      "cell_type": "code",
      "source": [
        "question='Marry bought a Mac of unknown value for the company, where should this money go on the income statement'\n",
        "react_run(query=question, tools=tools, system_prompt=system_prompt)"
      ],
      "metadata": {
        "colab": {
          "base_uri": "https://localhost:8080/"
        },
        "id": "gkuXrXfhgKbG",
        "outputId": "ae3bde1b-6d87-4fcc-c71e-7d701c3b307e"
      },
      "execution_count": 33,
      "outputs": [
        {
          "output_type": "stream",
          "name": "stdout",
          "text": [
            "Thought: To determine where the money spent on purchasing a Mac should go on the income statement, I need to understand the nature of the purchase and how it is typically accounted for in financial statements. Generally, purchases of equipment like a Mac are considered capital expenditures and are not directly recorded on the income statement. Instead, they are capitalized and depreciated over time. However, the depreciation expense related to the Mac would appear on the income statement. I will confirm this by checking the treatment of such purchases in financial accounting.\n",
            "\n",
            "Action: search: treatment of equipment purchase in financial accounting\n",
            "PAUSE\n",
            "Observation: [Document(metadata={}, page_content='Note 1:  Summary of Significant Accounting Policies (Continued)  \\n \\nJ. Property and Equipment  \\n \\nProperty and equipment are capitalized at cost. Depreciation is provided for using the straight -line method over the \\nestimated useful life of the asset. The Foundation considers items with a cost greater than $2,500 and a useful life \\ngreater than one year to be property and equipment. Items below $2,500 are expensed when purchased.  \\n \\nK. Functional Expenses  \\n \\nThe costs of providing program and other activities have been summarized on a functional basis in the statements of \\nactivities. Accordingly, certain costs have been allocated among the programs and supporting services benefited. The \\ncosts are allocated bas ed on time spent by employees or by management’s estimates.  \\n \\nExpense Method of Allocation\\nSalaries and Benefits Based on time allocation\\nOccupancy Unallocated\\nPrinting, marketing and multimedia Direct expense\\nProfessional services Direct expense')]\n",
            "Thought: The document confirms that property and equipment, such as a Mac, are capitalized at cost and depreciated over their useful life. This means the initial purchase cost of the Mac would not appear directly on the income statement. Instead, the depreciation expense related to the Mac would be recorded on the income statement over time. Therefore, the money spent on purchasing the Mac would not directly appear on the income statement, but the depreciation expense would.\n",
            "\n",
            "Answer: The money spent on purchasing the Mac would not directly appear on the income statement. Instead, it would be capitalized as an asset on the balance sheet, and the depreciation expense related to the Mac would be recorded on the income statement over its useful life.\n"
          ]
        }
      ]
    },
    {
      "cell_type": "code",
      "source": [],
      "metadata": {
        "id": "3rNBsGkhhFVb"
      },
      "execution_count": null,
      "outputs": []
    }
  ]
}